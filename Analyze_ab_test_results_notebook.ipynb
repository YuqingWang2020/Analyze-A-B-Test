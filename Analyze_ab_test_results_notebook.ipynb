{
 "cells": [
  {
   "cell_type": "markdown",
   "metadata": {},
   "source": [
    "# Analyze A/B Test Results \n",
    "\n",
    "- [Introduction](#intro)\n",
    "- [Part I - Probability](#probability)\n",
    "- [Part II - A/B Test](#ab_test)\n",
    "- [Part III - Regression](#regression)\n",
    "- [Submission](#submission)\n",
    "\n",
    "\n",
    "<a id='intro'></a>\n",
    "## Introduction\n",
    "\n",
    "This project is about the results of an A/B test run by an e-commerce website.  The goal is to work through this notebook to help the company understand if they should:\n",
    "- Implement the new webpage, \n",
    "- Keep the old webpage, or \n",
    "- Perhaps run the experiment longer to make their decision.\n",
    "\n",
    "<a id='probability'></a>\n",
    "## Part I - Probability\n"
   ]
  },
  {
   "cell_type": "code",
   "execution_count": 2,
   "metadata": {},
   "outputs": [],
   "source": [
    "import pandas as pd\n",
    "import numpy as np\n",
    "import random\n",
    "import matplotlib.pyplot as plt\n",
    "%matplotlib inline\n",
    "#setting the seed to assure we get the same answers on quizzes \n",
    "random.seed(42)"
   ]
  },
  {
   "cell_type": "markdown",
   "metadata": {},
   "source": [
    "### 1.1\n",
    "Now, read in the `ab_data.csv` data. Store it in `df`. Below is the description of the data, there are a total of 5 columns:\n",
    "\n",
    "<center>\n",
    "\n",
    "|Data columns|Purpose|Valid values|\n",
    "| ------------- |:-------------| -----:|\n",
    "|user_id|Unique ID|Int64 values|\n",
    "|timestamp|Time stamp when the user visited the webpage|-|\n",
    "|group|In the current A/B experiment, the users are categorized into two broad groups. <br>The `control` group users are expected to be served with `old_page`; and `treatment` group users are matched with the `new_page`. <br>However, **some inaccurate rows** are present in the initial data, such as a `control` group user is matched with a `new_page`. |`['control', 'treatment']`|\n",
    "|landing_page|It denotes whether the user visited the old or new webpage.|`['old_page', 'new_page']`|\n",
    "|converted|It denotes whether the user decided to pay for the company's product. Here, `1` means yes, the user bought the product.|`[0, 1]`|\n",
    "</center>\n",
    "\n",
    "\n",
    "**a.** Read in the dataset from the `ab_data.csv` file and take a look at the top few rows here:"
   ]
  },
  {
   "cell_type": "code",
   "execution_count": 3,
   "metadata": {},
   "outputs": [
    {
     "data": {
      "text/html": [
       "<div>\n",
       "<style scoped>\n",
       "    .dataframe tbody tr th:only-of-type {\n",
       "        vertical-align: middle;\n",
       "    }\n",
       "\n",
       "    .dataframe tbody tr th {\n",
       "        vertical-align: top;\n",
       "    }\n",
       "\n",
       "    .dataframe thead th {\n",
       "        text-align: right;\n",
       "    }\n",
       "</style>\n",
       "<table border=\"1\" class=\"dataframe\">\n",
       "  <thead>\n",
       "    <tr style=\"text-align: right;\">\n",
       "      <th></th>\n",
       "      <th>user_id</th>\n",
       "      <th>timestamp</th>\n",
       "      <th>group</th>\n",
       "      <th>landing_page</th>\n",
       "      <th>converted</th>\n",
       "    </tr>\n",
       "  </thead>\n",
       "  <tbody>\n",
       "    <tr>\n",
       "      <th>0</th>\n",
       "      <td>851104</td>\n",
       "      <td>2017-01-21 22:11:48.556739</td>\n",
       "      <td>control</td>\n",
       "      <td>old_page</td>\n",
       "      <td>0</td>\n",
       "    </tr>\n",
       "    <tr>\n",
       "      <th>1</th>\n",
       "      <td>804228</td>\n",
       "      <td>2017-01-12 08:01:45.159739</td>\n",
       "      <td>control</td>\n",
       "      <td>old_page</td>\n",
       "      <td>0</td>\n",
       "    </tr>\n",
       "    <tr>\n",
       "      <th>2</th>\n",
       "      <td>661590</td>\n",
       "      <td>2017-01-11 16:55:06.154213</td>\n",
       "      <td>treatment</td>\n",
       "      <td>new_page</td>\n",
       "      <td>0</td>\n",
       "    </tr>\n",
       "    <tr>\n",
       "      <th>3</th>\n",
       "      <td>853541</td>\n",
       "      <td>2017-01-08 18:28:03.143765</td>\n",
       "      <td>treatment</td>\n",
       "      <td>new_page</td>\n",
       "      <td>0</td>\n",
       "    </tr>\n",
       "    <tr>\n",
       "      <th>4</th>\n",
       "      <td>864975</td>\n",
       "      <td>2017-01-21 01:52:26.210827</td>\n",
       "      <td>control</td>\n",
       "      <td>old_page</td>\n",
       "      <td>1</td>\n",
       "    </tr>\n",
       "  </tbody>\n",
       "</table>\n",
       "</div>"
      ],
      "text/plain": [
       "   user_id                   timestamp      group landing_page  converted\n",
       "0   851104  2017-01-21 22:11:48.556739    control     old_page          0\n",
       "1   804228  2017-01-12 08:01:45.159739    control     old_page          0\n",
       "2   661590  2017-01-11 16:55:06.154213  treatment     new_page          0\n",
       "3   853541  2017-01-08 18:28:03.143765  treatment     new_page          0\n",
       "4   864975  2017-01-21 01:52:26.210827    control     old_page          1"
      ]
     },
     "execution_count": 3,
     "metadata": {},
     "output_type": "execute_result"
    }
   ],
   "source": [
    "df=pd.read_csv('ab_data.csv')\n",
    "df.head()"
   ]
  },
  {
   "cell_type": "markdown",
   "metadata": {},
   "source": [
    "**b.** Use the cell below to find the number of rows in the dataset."
   ]
  },
  {
   "cell_type": "code",
   "execution_count": 4,
   "metadata": {},
   "outputs": [
    {
     "name": "stdout",
     "output_type": "stream",
     "text": [
      "<class 'pandas.core.frame.DataFrame'>\n",
      "RangeIndex: 294478 entries, 0 to 294477\n",
      "Data columns (total 5 columns):\n",
      "user_id         294478 non-null int64\n",
      "timestamp       294478 non-null object\n",
      "group           294478 non-null object\n",
      "landing_page    294478 non-null object\n",
      "converted       294478 non-null int64\n",
      "dtypes: int64(2), object(3)\n",
      "memory usage: 11.2+ MB\n"
     ]
    }
   ],
   "source": [
    "df.info()"
   ]
  },
  {
   "cell_type": "markdown",
   "metadata": {},
   "source": [
    "**c.** The number of unique users in the dataset."
   ]
  },
  {
   "cell_type": "code",
   "execution_count": 5,
   "metadata": {},
   "outputs": [
    {
     "data": {
      "text/plain": [
       "290584"
      ]
     },
     "execution_count": 5,
     "metadata": {},
     "output_type": "execute_result"
    }
   ],
   "source": [
    "df.user_id.nunique()"
   ]
  },
  {
   "cell_type": "markdown",
   "metadata": {
    "collapsed": true
   },
   "source": [
    "**d.** The proportion of users converted."
   ]
  },
  {
   "cell_type": "code",
   "execution_count": 6,
   "metadata": {},
   "outputs": [
    {
     "data": {
      "text/plain": [
       "0.11965919355605512"
      ]
     },
     "execution_count": 6,
     "metadata": {},
     "output_type": "execute_result"
    }
   ],
   "source": [
    "df.converted.mean()"
   ]
  },
  {
   "cell_type": "markdown",
   "metadata": {
    "collapsed": true
   },
   "source": [
    "**e.** The number of times when the \"group\" is `treatment` but \"landing_page\" is not a `new_page`."
   ]
  },
  {
   "cell_type": "code",
   "execution_count": 7,
   "metadata": {},
   "outputs": [
    {
     "data": {
      "text/html": [
       "<div>\n",
       "<style scoped>\n",
       "    .dataframe tbody tr th:only-of-type {\n",
       "        vertical-align: middle;\n",
       "    }\n",
       "\n",
       "    .dataframe tbody tr th {\n",
       "        vertical-align: top;\n",
       "    }\n",
       "\n",
       "    .dataframe thead th {\n",
       "        text-align: right;\n",
       "    }\n",
       "</style>\n",
       "<table border=\"1\" class=\"dataframe\">\n",
       "  <thead>\n",
       "    <tr style=\"text-align: right;\">\n",
       "      <th></th>\n",
       "      <th>user_id</th>\n",
       "      <th>timestamp</th>\n",
       "      <th>group</th>\n",
       "      <th>landing_page</th>\n",
       "      <th>converted</th>\n",
       "    </tr>\n",
       "  </thead>\n",
       "  <tbody>\n",
       "    <tr>\n",
       "      <th>22</th>\n",
       "      <td>767017</td>\n",
       "      <td>2017-01-12 22:58:14.991443</td>\n",
       "      <td>control</td>\n",
       "      <td>new_page</td>\n",
       "      <td>0</td>\n",
       "    </tr>\n",
       "    <tr>\n",
       "      <th>240</th>\n",
       "      <td>733976</td>\n",
       "      <td>2017-01-11 15:11:16.407599</td>\n",
       "      <td>control</td>\n",
       "      <td>new_page</td>\n",
       "      <td>0</td>\n",
       "    </tr>\n",
       "    <tr>\n",
       "      <th>308</th>\n",
       "      <td>857184</td>\n",
       "      <td>2017-01-20 07:34:59.832626</td>\n",
       "      <td>treatment</td>\n",
       "      <td>old_page</td>\n",
       "      <td>0</td>\n",
       "    </tr>\n",
       "    <tr>\n",
       "      <th>327</th>\n",
       "      <td>686623</td>\n",
       "      <td>2017-01-09 14:26:40.734775</td>\n",
       "      <td>treatment</td>\n",
       "      <td>old_page</td>\n",
       "      <td>0</td>\n",
       "    </tr>\n",
       "    <tr>\n",
       "      <th>357</th>\n",
       "      <td>856078</td>\n",
       "      <td>2017-01-12 12:29:30.354835</td>\n",
       "      <td>treatment</td>\n",
       "      <td>old_page</td>\n",
       "      <td>0</td>\n",
       "    </tr>\n",
       "    <tr>\n",
       "      <th>490</th>\n",
       "      <td>808613</td>\n",
       "      <td>2017-01-10 21:44:01.292755</td>\n",
       "      <td>control</td>\n",
       "      <td>new_page</td>\n",
       "      <td>0</td>\n",
       "    </tr>\n",
       "    <tr>\n",
       "      <th>685</th>\n",
       "      <td>666385</td>\n",
       "      <td>2017-01-23 08:11:54.823806</td>\n",
       "      <td>treatment</td>\n",
       "      <td>old_page</td>\n",
       "      <td>0</td>\n",
       "    </tr>\n",
       "    <tr>\n",
       "      <th>713</th>\n",
       "      <td>748761</td>\n",
       "      <td>2017-01-10 15:47:44.445196</td>\n",
       "      <td>treatment</td>\n",
       "      <td>old_page</td>\n",
       "      <td>0</td>\n",
       "    </tr>\n",
       "    <tr>\n",
       "      <th>776</th>\n",
       "      <td>820951</td>\n",
       "      <td>2017-01-04 02:42:54.770627</td>\n",
       "      <td>treatment</td>\n",
       "      <td>old_page</td>\n",
       "      <td>0</td>\n",
       "    </tr>\n",
       "    <tr>\n",
       "      <th>846</th>\n",
       "      <td>637639</td>\n",
       "      <td>2017-01-11 23:09:52.682329</td>\n",
       "      <td>control</td>\n",
       "      <td>new_page</td>\n",
       "      <td>1</td>\n",
       "    </tr>\n",
       "    <tr>\n",
       "      <th>850</th>\n",
       "      <td>793580</td>\n",
       "      <td>2017-01-08 03:25:33.723712</td>\n",
       "      <td>control</td>\n",
       "      <td>new_page</td>\n",
       "      <td>1</td>\n",
       "    </tr>\n",
       "    <tr>\n",
       "      <th>889</th>\n",
       "      <td>839954</td>\n",
       "      <td>2017-01-06 20:58:22.280929</td>\n",
       "      <td>treatment</td>\n",
       "      <td>old_page</td>\n",
       "      <td>0</td>\n",
       "    </tr>\n",
       "    <tr>\n",
       "      <th>988</th>\n",
       "      <td>698120</td>\n",
       "      <td>2017-01-22 07:09:37.540970</td>\n",
       "      <td>control</td>\n",
       "      <td>new_page</td>\n",
       "      <td>0</td>\n",
       "    </tr>\n",
       "    <tr>\n",
       "      <th>1037</th>\n",
       "      <td>880442</td>\n",
       "      <td>2017-01-07 21:42:39.026815</td>\n",
       "      <td>treatment</td>\n",
       "      <td>old_page</td>\n",
       "      <td>0</td>\n",
       "    </tr>\n",
       "    <tr>\n",
       "      <th>1106</th>\n",
       "      <td>817911</td>\n",
       "      <td>2017-01-17 21:51:43.220160</td>\n",
       "      <td>treatment</td>\n",
       "      <td>old_page</td>\n",
       "      <td>0</td>\n",
       "    </tr>\n",
       "    <tr>\n",
       "      <th>1198</th>\n",
       "      <td>646342</td>\n",
       "      <td>2017-01-06 18:39:23.484797</td>\n",
       "      <td>control</td>\n",
       "      <td>new_page</td>\n",
       "      <td>0</td>\n",
       "    </tr>\n",
       "    <tr>\n",
       "      <th>1354</th>\n",
       "      <td>735021</td>\n",
       "      <td>2017-01-16 09:51:29.349493</td>\n",
       "      <td>control</td>\n",
       "      <td>new_page</td>\n",
       "      <td>0</td>\n",
       "    </tr>\n",
       "    <tr>\n",
       "      <th>1376</th>\n",
       "      <td>844475</td>\n",
       "      <td>2017-01-20 14:25:37.359614</td>\n",
       "      <td>treatment</td>\n",
       "      <td>old_page</td>\n",
       "      <td>0</td>\n",
       "    </tr>\n",
       "    <tr>\n",
       "      <th>1474</th>\n",
       "      <td>678638</td>\n",
       "      <td>2017-01-18 06:36:42.515395</td>\n",
       "      <td>control</td>\n",
       "      <td>new_page</td>\n",
       "      <td>0</td>\n",
       "    </tr>\n",
       "    <tr>\n",
       "      <th>1551</th>\n",
       "      <td>838336</td>\n",
       "      <td>2017-01-14 22:05:24.310302</td>\n",
       "      <td>treatment</td>\n",
       "      <td>old_page</td>\n",
       "      <td>0</td>\n",
       "    </tr>\n",
       "    <tr>\n",
       "      <th>1706</th>\n",
       "      <td>916207</td>\n",
       "      <td>2017-01-20 11:53:39.683012</td>\n",
       "      <td>treatment</td>\n",
       "      <td>old_page</td>\n",
       "      <td>0</td>\n",
       "    </tr>\n",
       "    <tr>\n",
       "      <th>1762</th>\n",
       "      <td>690127</td>\n",
       "      <td>2017-01-11 16:02:57.551297</td>\n",
       "      <td>treatment</td>\n",
       "      <td>old_page</td>\n",
       "      <td>1</td>\n",
       "    </tr>\n",
       "    <tr>\n",
       "      <th>1877</th>\n",
       "      <td>717682</td>\n",
       "      <td>2017-01-07 03:05:39.891873</td>\n",
       "      <td>control</td>\n",
       "      <td>new_page</td>\n",
       "      <td>0</td>\n",
       "    </tr>\n",
       "    <tr>\n",
       "      <th>2023</th>\n",
       "      <td>937692</td>\n",
       "      <td>2017-01-19 01:29:42.739007</td>\n",
       "      <td>control</td>\n",
       "      <td>new_page</td>\n",
       "      <td>0</td>\n",
       "    </tr>\n",
       "    <tr>\n",
       "      <th>2214</th>\n",
       "      <td>649781</td>\n",
       "      <td>2017-01-20 03:50:20.837704</td>\n",
       "      <td>control</td>\n",
       "      <td>new_page</td>\n",
       "      <td>0</td>\n",
       "    </tr>\n",
       "    <tr>\n",
       "      <th>2233</th>\n",
       "      <td>869707</td>\n",
       "      <td>2017-01-02 18:36:28.222510</td>\n",
       "      <td>treatment</td>\n",
       "      <td>old_page</td>\n",
       "      <td>0</td>\n",
       "    </tr>\n",
       "    <tr>\n",
       "      <th>2422</th>\n",
       "      <td>853156</td>\n",
       "      <td>2017-01-15 23:19:45.427866</td>\n",
       "      <td>treatment</td>\n",
       "      <td>old_page</td>\n",
       "      <td>0</td>\n",
       "    </tr>\n",
       "    <tr>\n",
       "      <th>2689</th>\n",
       "      <td>793494</td>\n",
       "      <td>2017-01-09 02:09:08.534282</td>\n",
       "      <td>treatment</td>\n",
       "      <td>old_page</td>\n",
       "      <td>0</td>\n",
       "    </tr>\n",
       "    <tr>\n",
       "      <th>2745</th>\n",
       "      <td>872666</td>\n",
       "      <td>2017-01-05 07:44:32.050781</td>\n",
       "      <td>control</td>\n",
       "      <td>new_page</td>\n",
       "      <td>0</td>\n",
       "    </tr>\n",
       "    <tr>\n",
       "      <th>2759</th>\n",
       "      <td>639817</td>\n",
       "      <td>2017-01-06 23:39:11.754971</td>\n",
       "      <td>control</td>\n",
       "      <td>new_page</td>\n",
       "      <td>0</td>\n",
       "    </tr>\n",
       "    <tr>\n",
       "      <th>...</th>\n",
       "      <td>...</td>\n",
       "      <td>...</td>\n",
       "      <td>...</td>\n",
       "      <td>...</td>\n",
       "      <td>...</td>\n",
       "    </tr>\n",
       "    <tr>\n",
       "      <th>292521</th>\n",
       "      <td>689329</td>\n",
       "      <td>2017-01-06 03:58:15.546309</td>\n",
       "      <td>treatment</td>\n",
       "      <td>old_page</td>\n",
       "      <td>0</td>\n",
       "    </tr>\n",
       "    <tr>\n",
       "      <th>292570</th>\n",
       "      <td>778969</td>\n",
       "      <td>2017-01-21 12:59:42.740399</td>\n",
       "      <td>control</td>\n",
       "      <td>new_page</td>\n",
       "      <td>1</td>\n",
       "    </tr>\n",
       "    <tr>\n",
       "      <th>292607</th>\n",
       "      <td>699462</td>\n",
       "      <td>2017-01-17 23:54:08.826755</td>\n",
       "      <td>treatment</td>\n",
       "      <td>old_page</td>\n",
       "      <td>0</td>\n",
       "    </tr>\n",
       "    <tr>\n",
       "      <th>292748</th>\n",
       "      <td>684361</td>\n",
       "      <td>2017-01-19 03:59:57.656614</td>\n",
       "      <td>control</td>\n",
       "      <td>new_page</td>\n",
       "      <td>0</td>\n",
       "    </tr>\n",
       "    <tr>\n",
       "      <th>292800</th>\n",
       "      <td>712112</td>\n",
       "      <td>2017-01-14 23:33:41.083796</td>\n",
       "      <td>treatment</td>\n",
       "      <td>old_page</td>\n",
       "      <td>0</td>\n",
       "    </tr>\n",
       "    <tr>\n",
       "      <th>292845</th>\n",
       "      <td>893018</td>\n",
       "      <td>2017-01-10 15:05:37.522921</td>\n",
       "      <td>control</td>\n",
       "      <td>new_page</td>\n",
       "      <td>0</td>\n",
       "    </tr>\n",
       "    <tr>\n",
       "      <th>292963</th>\n",
       "      <td>742202</td>\n",
       "      <td>2017-01-12 04:34:20.344485</td>\n",
       "      <td>treatment</td>\n",
       "      <td>old_page</td>\n",
       "      <td>0</td>\n",
       "    </tr>\n",
       "    <tr>\n",
       "      <th>292977</th>\n",
       "      <td>638460</td>\n",
       "      <td>2017-01-22 13:38:30.677806</td>\n",
       "      <td>treatment</td>\n",
       "      <td>old_page</td>\n",
       "      <td>0</td>\n",
       "    </tr>\n",
       "    <tr>\n",
       "      <th>293017</th>\n",
       "      <td>792268</td>\n",
       "      <td>2017-01-06 09:21:58.341063</td>\n",
       "      <td>control</td>\n",
       "      <td>new_page</td>\n",
       "      <td>0</td>\n",
       "    </tr>\n",
       "    <tr>\n",
       "      <th>293085</th>\n",
       "      <td>884635</td>\n",
       "      <td>2017-01-19 14:19:48.484389</td>\n",
       "      <td>control</td>\n",
       "      <td>new_page</td>\n",
       "      <td>0</td>\n",
       "    </tr>\n",
       "    <tr>\n",
       "      <th>293240</th>\n",
       "      <td>861420</td>\n",
       "      <td>2017-01-04 20:34:09.065070</td>\n",
       "      <td>treatment</td>\n",
       "      <td>old_page</td>\n",
       "      <td>0</td>\n",
       "    </tr>\n",
       "    <tr>\n",
       "      <th>293302</th>\n",
       "      <td>825937</td>\n",
       "      <td>2017-01-04 20:56:48.825875</td>\n",
       "      <td>treatment</td>\n",
       "      <td>old_page</td>\n",
       "      <td>0</td>\n",
       "    </tr>\n",
       "    <tr>\n",
       "      <th>293391</th>\n",
       "      <td>934444</td>\n",
       "      <td>2017-01-12 19:49:35.581289</td>\n",
       "      <td>treatment</td>\n",
       "      <td>old_page</td>\n",
       "      <td>0</td>\n",
       "    </tr>\n",
       "    <tr>\n",
       "      <th>293393</th>\n",
       "      <td>636565</td>\n",
       "      <td>2017-01-12 07:26:31.103374</td>\n",
       "      <td>control</td>\n",
       "      <td>new_page</td>\n",
       "      <td>0</td>\n",
       "    </tr>\n",
       "    <tr>\n",
       "      <th>293443</th>\n",
       "      <td>738761</td>\n",
       "      <td>2017-01-04 15:20:52.694440</td>\n",
       "      <td>treatment</td>\n",
       "      <td>old_page</td>\n",
       "      <td>0</td>\n",
       "    </tr>\n",
       "    <tr>\n",
       "      <th>293480</th>\n",
       "      <td>638376</td>\n",
       "      <td>2017-01-18 15:41:02.395882</td>\n",
       "      <td>control</td>\n",
       "      <td>new_page</td>\n",
       "      <td>0</td>\n",
       "    </tr>\n",
       "    <tr>\n",
       "      <th>293530</th>\n",
       "      <td>934040</td>\n",
       "      <td>2017-01-04 20:52:26.981566</td>\n",
       "      <td>treatment</td>\n",
       "      <td>old_page</td>\n",
       "      <td>0</td>\n",
       "    </tr>\n",
       "    <tr>\n",
       "      <th>293568</th>\n",
       "      <td>704024</td>\n",
       "      <td>2017-01-15 17:06:09.309987</td>\n",
       "      <td>control</td>\n",
       "      <td>new_page</td>\n",
       "      <td>0</td>\n",
       "    </tr>\n",
       "    <tr>\n",
       "      <th>293662</th>\n",
       "      <td>927109</td>\n",
       "      <td>2017-01-04 09:14:33.647192</td>\n",
       "      <td>control</td>\n",
       "      <td>new_page</td>\n",
       "      <td>0</td>\n",
       "    </tr>\n",
       "    <tr>\n",
       "      <th>293773</th>\n",
       "      <td>688144</td>\n",
       "      <td>2017-01-16 20:34:50.450528</td>\n",
       "      <td>treatment</td>\n",
       "      <td>old_page</td>\n",
       "      <td>1</td>\n",
       "    </tr>\n",
       "    <tr>\n",
       "      <th>293817</th>\n",
       "      <td>876037</td>\n",
       "      <td>2017-01-17 16:15:08.957152</td>\n",
       "      <td>treatment</td>\n",
       "      <td>old_page</td>\n",
       "      <td>1</td>\n",
       "    </tr>\n",
       "    <tr>\n",
       "      <th>293888</th>\n",
       "      <td>865405</td>\n",
       "      <td>2017-01-12 08:38:50.511434</td>\n",
       "      <td>control</td>\n",
       "      <td>new_page</td>\n",
       "      <td>0</td>\n",
       "    </tr>\n",
       "    <tr>\n",
       "      <th>293894</th>\n",
       "      <td>741581</td>\n",
       "      <td>2017-01-09 20:49:03.391764</td>\n",
       "      <td>control</td>\n",
       "      <td>new_page</td>\n",
       "      <td>0</td>\n",
       "    </tr>\n",
       "    <tr>\n",
       "      <th>293917</th>\n",
       "      <td>738357</td>\n",
       "      <td>2017-01-05 15:37:55.729133</td>\n",
       "      <td>treatment</td>\n",
       "      <td>old_page</td>\n",
       "      <td>0</td>\n",
       "    </tr>\n",
       "    <tr>\n",
       "      <th>293996</th>\n",
       "      <td>942612</td>\n",
       "      <td>2017-01-08 13:52:28.182648</td>\n",
       "      <td>control</td>\n",
       "      <td>new_page</td>\n",
       "      <td>0</td>\n",
       "    </tr>\n",
       "    <tr>\n",
       "      <th>294014</th>\n",
       "      <td>813406</td>\n",
       "      <td>2017-01-09 06:25:33.223301</td>\n",
       "      <td>treatment</td>\n",
       "      <td>old_page</td>\n",
       "      <td>0</td>\n",
       "    </tr>\n",
       "    <tr>\n",
       "      <th>294200</th>\n",
       "      <td>928506</td>\n",
       "      <td>2017-01-13 21:32:10.491309</td>\n",
       "      <td>control</td>\n",
       "      <td>new_page</td>\n",
       "      <td>0</td>\n",
       "    </tr>\n",
       "    <tr>\n",
       "      <th>294252</th>\n",
       "      <td>892498</td>\n",
       "      <td>2017-01-22 01:11:10.463211</td>\n",
       "      <td>treatment</td>\n",
       "      <td>old_page</td>\n",
       "      <td>0</td>\n",
       "    </tr>\n",
       "    <tr>\n",
       "      <th>294253</th>\n",
       "      <td>886135</td>\n",
       "      <td>2017-01-06 12:49:20.509403</td>\n",
       "      <td>control</td>\n",
       "      <td>new_page</td>\n",
       "      <td>0</td>\n",
       "    </tr>\n",
       "    <tr>\n",
       "      <th>294331</th>\n",
       "      <td>689637</td>\n",
       "      <td>2017-01-13 11:34:28.339532</td>\n",
       "      <td>control</td>\n",
       "      <td>new_page</td>\n",
       "      <td>0</td>\n",
       "    </tr>\n",
       "  </tbody>\n",
       "</table>\n",
       "<p>3893 rows × 5 columns</p>\n",
       "</div>"
      ],
      "text/plain": [
       "        user_id                   timestamp      group landing_page  converted\n",
       "22       767017  2017-01-12 22:58:14.991443    control     new_page          0\n",
       "240      733976  2017-01-11 15:11:16.407599    control     new_page          0\n",
       "308      857184  2017-01-20 07:34:59.832626  treatment     old_page          0\n",
       "327      686623  2017-01-09 14:26:40.734775  treatment     old_page          0\n",
       "357      856078  2017-01-12 12:29:30.354835  treatment     old_page          0\n",
       "490      808613  2017-01-10 21:44:01.292755    control     new_page          0\n",
       "685      666385  2017-01-23 08:11:54.823806  treatment     old_page          0\n",
       "713      748761  2017-01-10 15:47:44.445196  treatment     old_page          0\n",
       "776      820951  2017-01-04 02:42:54.770627  treatment     old_page          0\n",
       "846      637639  2017-01-11 23:09:52.682329    control     new_page          1\n",
       "850      793580  2017-01-08 03:25:33.723712    control     new_page          1\n",
       "889      839954  2017-01-06 20:58:22.280929  treatment     old_page          0\n",
       "988      698120  2017-01-22 07:09:37.540970    control     new_page          0\n",
       "1037     880442  2017-01-07 21:42:39.026815  treatment     old_page          0\n",
       "1106     817911  2017-01-17 21:51:43.220160  treatment     old_page          0\n",
       "1198     646342  2017-01-06 18:39:23.484797    control     new_page          0\n",
       "1354     735021  2017-01-16 09:51:29.349493    control     new_page          0\n",
       "1376     844475  2017-01-20 14:25:37.359614  treatment     old_page          0\n",
       "1474     678638  2017-01-18 06:36:42.515395    control     new_page          0\n",
       "1551     838336  2017-01-14 22:05:24.310302  treatment     old_page          0\n",
       "1706     916207  2017-01-20 11:53:39.683012  treatment     old_page          0\n",
       "1762     690127  2017-01-11 16:02:57.551297  treatment     old_page          1\n",
       "1877     717682  2017-01-07 03:05:39.891873    control     new_page          0\n",
       "2023     937692  2017-01-19 01:29:42.739007    control     new_page          0\n",
       "2214     649781  2017-01-20 03:50:20.837704    control     new_page          0\n",
       "2233     869707  2017-01-02 18:36:28.222510  treatment     old_page          0\n",
       "2422     853156  2017-01-15 23:19:45.427866  treatment     old_page          0\n",
       "2689     793494  2017-01-09 02:09:08.534282  treatment     old_page          0\n",
       "2745     872666  2017-01-05 07:44:32.050781    control     new_page          0\n",
       "2759     639817  2017-01-06 23:39:11.754971    control     new_page          0\n",
       "...         ...                         ...        ...          ...        ...\n",
       "292521   689329  2017-01-06 03:58:15.546309  treatment     old_page          0\n",
       "292570   778969  2017-01-21 12:59:42.740399    control     new_page          1\n",
       "292607   699462  2017-01-17 23:54:08.826755  treatment     old_page          0\n",
       "292748   684361  2017-01-19 03:59:57.656614    control     new_page          0\n",
       "292800   712112  2017-01-14 23:33:41.083796  treatment     old_page          0\n",
       "292845   893018  2017-01-10 15:05:37.522921    control     new_page          0\n",
       "292963   742202  2017-01-12 04:34:20.344485  treatment     old_page          0\n",
       "292977   638460  2017-01-22 13:38:30.677806  treatment     old_page          0\n",
       "293017   792268  2017-01-06 09:21:58.341063    control     new_page          0\n",
       "293085   884635  2017-01-19 14:19:48.484389    control     new_page          0\n",
       "293240   861420  2017-01-04 20:34:09.065070  treatment     old_page          0\n",
       "293302   825937  2017-01-04 20:56:48.825875  treatment     old_page          0\n",
       "293391   934444  2017-01-12 19:49:35.581289  treatment     old_page          0\n",
       "293393   636565  2017-01-12 07:26:31.103374    control     new_page          0\n",
       "293443   738761  2017-01-04 15:20:52.694440  treatment     old_page          0\n",
       "293480   638376  2017-01-18 15:41:02.395882    control     new_page          0\n",
       "293530   934040  2017-01-04 20:52:26.981566  treatment     old_page          0\n",
       "293568   704024  2017-01-15 17:06:09.309987    control     new_page          0\n",
       "293662   927109  2017-01-04 09:14:33.647192    control     new_page          0\n",
       "293773   688144  2017-01-16 20:34:50.450528  treatment     old_page          1\n",
       "293817   876037  2017-01-17 16:15:08.957152  treatment     old_page          1\n",
       "293888   865405  2017-01-12 08:38:50.511434    control     new_page          0\n",
       "293894   741581  2017-01-09 20:49:03.391764    control     new_page          0\n",
       "293917   738357  2017-01-05 15:37:55.729133  treatment     old_page          0\n",
       "293996   942612  2017-01-08 13:52:28.182648    control     new_page          0\n",
       "294014   813406  2017-01-09 06:25:33.223301  treatment     old_page          0\n",
       "294200   928506  2017-01-13 21:32:10.491309    control     new_page          0\n",
       "294252   892498  2017-01-22 01:11:10.463211  treatment     old_page          0\n",
       "294253   886135  2017-01-06 12:49:20.509403    control     new_page          0\n",
       "294331   689637  2017-01-13 11:34:28.339532    control     new_page          0\n",
       "\n",
       "[3893 rows x 5 columns]"
      ]
     },
     "execution_count": 7,
     "metadata": {},
     "output_type": "execute_result"
    }
   ],
   "source": [
    "df.query('(group==\"treatment\"& landing_page!=\"new_page\")|(group==\"control\"& landing_page!=\"old_page\")')"
   ]
  },
  {
   "cell_type": "markdown",
   "metadata": {},
   "source": [
    "**f.** Do any of the rows have missing values?"
   ]
  },
  {
   "cell_type": "code",
   "execution_count": 8,
   "metadata": {},
   "outputs": [
    {
     "data": {
      "text/plain": [
       "0.0"
      ]
     },
     "execution_count": 8,
     "metadata": {},
     "output_type": "execute_result"
    }
   ],
   "source": [
    "df.isnull().any(axis=1).mean()"
   ]
  },
  {
   "cell_type": "markdown",
   "metadata": {},
   "source": [
    "### 1.2  \n",
    "In a particular row, the **group** and **landing_page** columns should have either of the following acceptable values:\n",
    "\n",
    "|user_id| timestamp|group|landing_page|converted|\n",
    "|---|---|---|---|---|\n",
    "|XXXX|XXXX|`control`| `old_page`|X |\n",
    "|XXXX|XXXX|`treatment`|`new_page`|X |\n",
    "\n",
    "\n",
    "It means, the `control` group users should match with `old_page`; and `treatment` group users should matched with the `new_page`. \n",
    "\n",
    "However, for the rows where `treatment` does not match with `new_page` or `control` does not match with `old_page`, we cannot be sure if such rows truly received the new or old wepage.  \n",
    "\n",
    "\n",
    "We should remove the rows where the group and landing_page columns don't match. we should only use the rows that we can feel confident in the accuracy of the data.\n",
    "\n",
    "**a.** Now create a new dataset and store the new dataframe in **df2**."
   ]
  },
  {
   "cell_type": "code",
   "execution_count": 9,
   "metadata": {},
   "outputs": [],
   "source": [
    "df3=df.query('(group==\"treatment\"& landing_page!=\"new_page\")|(group==\"control\"& landing_page!=\"old_page\")')"
   ]
  },
  {
   "cell_type": "code",
   "execution_count": 10,
   "metadata": {},
   "outputs": [],
   "source": [
    "index=df3.index"
   ]
  },
  {
   "cell_type": "code",
   "execution_count": 11,
   "metadata": {},
   "outputs": [],
   "source": [
    "# Remove the inaccurate rows, and store the result in a new dataframe df2\n",
    "df2=df.drop(index,axis=0)"
   ]
  },
  {
   "cell_type": "code",
   "execution_count": 12,
   "metadata": {},
   "outputs": [
    {
     "data": {
      "text/plain": [
       "0"
      ]
     },
     "execution_count": 12,
     "metadata": {},
     "output_type": "execute_result"
    }
   ],
   "source": [
    "# Double Check all of the incorrect rows were removed from df2 - \n",
    "# Output of the statement below should be 0\n",
    "df2[((df2['group'] == 'treatment') == (df2['landing_page'] == 'new_page')) == False].shape[0]"
   ]
  },
  {
   "cell_type": "markdown",
   "metadata": {},
   "source": [
    "###  1.3  "
   ]
  },
  {
   "cell_type": "markdown",
   "metadata": {},
   "source": [
    "**a.** How many unique **user_id**s are in **df2**?"
   ]
  },
  {
   "cell_type": "code",
   "execution_count": 13,
   "metadata": {},
   "outputs": [
    {
     "data": {
      "text/plain": [
       "290584"
      ]
     },
     "execution_count": 13,
     "metadata": {},
     "output_type": "execute_result"
    }
   ],
   "source": [
    "df2.user_id.nunique()"
   ]
  },
  {
   "cell_type": "markdown",
   "metadata": {
    "collapsed": true
   },
   "source": [
    "**b.** There is one **user_id** repeated in **df2**.  What is it?"
   ]
  },
  {
   "cell_type": "code",
   "execution_count": 14,
   "metadata": {},
   "outputs": [
    {
     "data": {
      "text/html": [
       "<div>\n",
       "<style scoped>\n",
       "    .dataframe tbody tr th:only-of-type {\n",
       "        vertical-align: middle;\n",
       "    }\n",
       "\n",
       "    .dataframe tbody tr th {\n",
       "        vertical-align: top;\n",
       "    }\n",
       "\n",
       "    .dataframe thead th {\n",
       "        text-align: right;\n",
       "    }\n",
       "</style>\n",
       "<table border=\"1\" class=\"dataframe\">\n",
       "  <thead>\n",
       "    <tr style=\"text-align: right;\">\n",
       "      <th></th>\n",
       "      <th>user_id</th>\n",
       "      <th>timestamp</th>\n",
       "      <th>group</th>\n",
       "      <th>landing_page</th>\n",
       "      <th>converted</th>\n",
       "    </tr>\n",
       "  </thead>\n",
       "  <tbody>\n",
       "    <tr>\n",
       "      <th>2893</th>\n",
       "      <td>773192</td>\n",
       "      <td>2017-01-14 02:55:59.590927</td>\n",
       "      <td>treatment</td>\n",
       "      <td>new_page</td>\n",
       "      <td>0</td>\n",
       "    </tr>\n",
       "  </tbody>\n",
       "</table>\n",
       "</div>"
      ],
      "text/plain": [
       "      user_id                   timestamp      group landing_page  converted\n",
       "2893   773192  2017-01-14 02:55:59.590927  treatment     new_page          0"
      ]
     },
     "execution_count": 14,
     "metadata": {},
     "output_type": "execute_result"
    }
   ],
   "source": [
    "df2[df2.user_id.duplicated()==True]"
   ]
  },
  {
   "cell_type": "markdown",
   "metadata": {},
   "source": [
    "**c.** Display the rows for the duplicate **user_id**? "
   ]
  },
  {
   "cell_type": "code",
   "execution_count": 15,
   "metadata": {},
   "outputs": [
    {
     "data": {
      "text/html": [
       "<div>\n",
       "<style scoped>\n",
       "    .dataframe tbody tr th:only-of-type {\n",
       "        vertical-align: middle;\n",
       "    }\n",
       "\n",
       "    .dataframe tbody tr th {\n",
       "        vertical-align: top;\n",
       "    }\n",
       "\n",
       "    .dataframe thead th {\n",
       "        text-align: right;\n",
       "    }\n",
       "</style>\n",
       "<table border=\"1\" class=\"dataframe\">\n",
       "  <thead>\n",
       "    <tr style=\"text-align: right;\">\n",
       "      <th></th>\n",
       "      <th>user_id</th>\n",
       "      <th>timestamp</th>\n",
       "      <th>group</th>\n",
       "      <th>landing_page</th>\n",
       "      <th>converted</th>\n",
       "    </tr>\n",
       "  </thead>\n",
       "  <tbody>\n",
       "    <tr>\n",
       "      <th>1899</th>\n",
       "      <td>773192</td>\n",
       "      <td>2017-01-09 05:37:58.781806</td>\n",
       "      <td>treatment</td>\n",
       "      <td>new_page</td>\n",
       "      <td>0</td>\n",
       "    </tr>\n",
       "    <tr>\n",
       "      <th>2893</th>\n",
       "      <td>773192</td>\n",
       "      <td>2017-01-14 02:55:59.590927</td>\n",
       "      <td>treatment</td>\n",
       "      <td>new_page</td>\n",
       "      <td>0</td>\n",
       "    </tr>\n",
       "  </tbody>\n",
       "</table>\n",
       "</div>"
      ],
      "text/plain": [
       "      user_id                   timestamp      group landing_page  converted\n",
       "1899   773192  2017-01-09 05:37:58.781806  treatment     new_page          0\n",
       "2893   773192  2017-01-14 02:55:59.590927  treatment     new_page          0"
      ]
     },
     "execution_count": 15,
     "metadata": {},
     "output_type": "execute_result"
    }
   ],
   "source": [
    "df2.query('user_id==773192')"
   ]
  },
  {
   "cell_type": "markdown",
   "metadata": {},
   "source": [
    "**d.** Remove **one** of the rows with a duplicate **user_id**, from the **df2** dataframe."
   ]
  },
  {
   "cell_type": "code",
   "execution_count": 16,
   "metadata": {},
   "outputs": [],
   "source": [
    "# Remove one of the rows with a duplicate user_id.\n",
    "df2=df2.drop(index = 2893, axis = 0)\n",
    "\n",
    "# Check again if the row with a duplicate user_id is deleted or not"
   ]
  },
  {
   "cell_type": "code",
   "execution_count": 17,
   "metadata": {},
   "outputs": [
    {
     "data": {
      "text/plain": [
       "0"
      ]
     },
     "execution_count": 17,
     "metadata": {},
     "output_type": "execute_result"
    }
   ],
   "source": [
    "df2.user_id.duplicated().sum()"
   ]
  },
  {
   "cell_type": "code",
   "execution_count": 18,
   "metadata": {},
   "outputs": [
    {
     "data": {
      "text/html": [
       "<div>\n",
       "<style scoped>\n",
       "    .dataframe tbody tr th:only-of-type {\n",
       "        vertical-align: middle;\n",
       "    }\n",
       "\n",
       "    .dataframe tbody tr th {\n",
       "        vertical-align: top;\n",
       "    }\n",
       "\n",
       "    .dataframe thead th {\n",
       "        text-align: right;\n",
       "    }\n",
       "</style>\n",
       "<table border=\"1\" class=\"dataframe\">\n",
       "  <thead>\n",
       "    <tr style=\"text-align: right;\">\n",
       "      <th></th>\n",
       "      <th>user_id</th>\n",
       "      <th>timestamp</th>\n",
       "      <th>group</th>\n",
       "      <th>landing_page</th>\n",
       "      <th>converted</th>\n",
       "    </tr>\n",
       "  </thead>\n",
       "  <tbody>\n",
       "  </tbody>\n",
       "</table>\n",
       "</div>"
      ],
      "text/plain": [
       "Empty DataFrame\n",
       "Columns: [user_id, timestamp, group, landing_page, converted]\n",
       "Index: []"
      ]
     },
     "execution_count": 18,
     "metadata": {},
     "output_type": "execute_result"
    }
   ],
   "source": [
    "df2[df2.user_id.duplicated()==True]"
   ]
  },
  {
   "cell_type": "code",
   "execution_count": 19,
   "metadata": {},
   "outputs": [
    {
     "data": {
      "text/html": [
       "<div>\n",
       "<style scoped>\n",
       "    .dataframe tbody tr th:only-of-type {\n",
       "        vertical-align: middle;\n",
       "    }\n",
       "\n",
       "    .dataframe tbody tr th {\n",
       "        vertical-align: top;\n",
       "    }\n",
       "\n",
       "    .dataframe thead th {\n",
       "        text-align: right;\n",
       "    }\n",
       "</style>\n",
       "<table border=\"1\" class=\"dataframe\">\n",
       "  <thead>\n",
       "    <tr style=\"text-align: right;\">\n",
       "      <th></th>\n",
       "      <th>user_id</th>\n",
       "      <th>timestamp</th>\n",
       "      <th>group</th>\n",
       "      <th>landing_page</th>\n",
       "      <th>converted</th>\n",
       "    </tr>\n",
       "  </thead>\n",
       "  <tbody>\n",
       "    <tr>\n",
       "      <th>1899</th>\n",
       "      <td>773192</td>\n",
       "      <td>2017-01-09 05:37:58.781806</td>\n",
       "      <td>treatment</td>\n",
       "      <td>new_page</td>\n",
       "      <td>0</td>\n",
       "    </tr>\n",
       "  </tbody>\n",
       "</table>\n",
       "</div>"
      ],
      "text/plain": [
       "      user_id                   timestamp      group landing_page  converted\n",
       "1899   773192  2017-01-09 05:37:58.781806  treatment     new_page          0"
      ]
     },
     "execution_count": 19,
     "metadata": {},
     "output_type": "execute_result"
    }
   ],
   "source": [
    "df2.query('user_id==773192')"
   ]
  },
  {
   "cell_type": "code",
   "execution_count": 20,
   "metadata": {},
   "outputs": [
    {
     "name": "stdout",
     "output_type": "stream",
     "text": [
      "<class 'pandas.core.frame.DataFrame'>\n",
      "Int64Index: 290584 entries, 0 to 294477\n",
      "Data columns (total 5 columns):\n",
      "user_id         290584 non-null int64\n",
      "timestamp       290584 non-null object\n",
      "group           290584 non-null object\n",
      "landing_page    290584 non-null object\n",
      "converted       290584 non-null int64\n",
      "dtypes: int64(2), object(3)\n",
      "memory usage: 13.3+ MB\n"
     ]
    }
   ],
   "source": [
    "df2.info()"
   ]
  },
  {
   "cell_type": "markdown",
   "metadata": {},
   "source": [
    "### 1.4  \n",
    "\n",
    "**a.** What is the probability of an individual converting regardless of the page they receive?<br><br>\n",
    "\n",
    ">The probability $p_{population}$ is to compute represents the overall \"converted\" success rate in the population .\n",
    "\n"
   ]
  },
  {
   "cell_type": "code",
   "execution_count": 21,
   "metadata": {},
   "outputs": [
    {
     "data": {
      "text/plain": [
       "0.11959708724499628"
      ]
     },
     "execution_count": 21,
     "metadata": {},
     "output_type": "execute_result"
    }
   ],
   "source": [
    "P_population=df2.converted.mean()\n",
    "P_population"
   ]
  },
  {
   "cell_type": "markdown",
   "metadata": {},
   "source": [
    "**b.** Given that an individual was in the `control` group, what is the probability they converted?"
   ]
  },
  {
   "cell_type": "code",
   "execution_count": 22,
   "metadata": {},
   "outputs": [
    {
     "data": {
      "text/plain": [
       "0.1203863045004612"
      ]
     },
     "execution_count": 22,
     "metadata": {},
     "output_type": "execute_result"
    }
   ],
   "source": [
    "df2.query('group==\"control\"').converted.mean()"
   ]
  },
  {
   "cell_type": "markdown",
   "metadata": {},
   "source": [
    "**c.** Given that an individual was in the `treatment` group, what is the probability they converted?"
   ]
  },
  {
   "cell_type": "code",
   "execution_count": 23,
   "metadata": {},
   "outputs": [
    {
     "data": {
      "text/plain": [
       "0.11880806551510564"
      ]
     },
     "execution_count": 23,
     "metadata": {},
     "output_type": "execute_result"
    }
   ],
   "source": [
    "df2.query('group==\"treatment\"').converted.mean()"
   ]
  },
  {
   "cell_type": "markdown",
   "metadata": {},
   "source": [
    ">The probabilities computed in the points (b). and (c). above can also be treated as conversion rate. \n",
    "Now we Calculate the actual difference  (`obs_diff`) between the conversion rates for the two groups. "
   ]
  },
  {
   "cell_type": "code",
   "execution_count": 24,
   "metadata": {},
   "outputs": [
    {
     "data": {
      "text/plain": [
       "-0.0015782389853555567"
      ]
     },
     "execution_count": 24,
     "metadata": {},
     "output_type": "execute_result"
    }
   ],
   "source": [
    "# Calculate the actual difference (obs_diff) between the conversion rates for the two groups.\n",
    "obs_diff=df2.query('group==\"treatment\"').converted.mean()-df2.query('group==\"control\"').converted.mean()\n",
    "obs_diff"
   ]
  },
  {
   "cell_type": "markdown",
   "metadata": {},
   "source": [
    "**d.** What is the probability that an individual received the new page?"
   ]
  },
  {
   "cell_type": "code",
   "execution_count": 25,
   "metadata": {},
   "outputs": [
    {
     "data": {
      "text/plain": [
       "0.5000619442226688"
      ]
     },
     "execution_count": 25,
     "metadata": {},
     "output_type": "execute_result"
    }
   ],
   "source": [
    "df4=df2.query('landing_page==\"new_page\"')\n",
    "df4.shape[0]/df2.shape[0]"
   ]
  },
  {
   "cell_type": "markdown",
   "metadata": {},
   "source": [
    "**e.** Consider your results from parts (a) through (d) above, and explain below whether the new `treatment` group users lead to more conversions."
   ]
  },
  {
   "cell_type": "markdown",
   "metadata": {},
   "source": [
    "The probability that an individual received the new page is around 0.5;\n",
    "\n",
    "**The \"converted\" probability (or rate) for the old page is *slightly* higher than that of the new page.**\n",
    "\n",
    "The actual difference (obs_diff) between the conversion rates for the two groups is around 0.15%.   \n",
    "\n",
    "**So the new treatment group users doesn't lead to more conversions.**"
   ]
  },
  {
   "cell_type": "markdown",
   "metadata": {},
   "source": [
    "<a id='ab_test'></a>\n",
    "## Part II - A/B Test\n",
    "\n",
    "Since a timestamp is associated with each event, we could run a hypothesis test continuously as long as we observe the events. \n",
    "\n",
    "However, then the hard questions would be: \n",
    "- Do you stop as soon as one page is considered significantly better than another or does it need to happen consistently for a certain amount of time?  \n",
    "- How long do we run to render a decision that neither page is better than another?  \n",
    "\n",
    "\n",
    "\n",
    "###  2.1\n",
    "\n",
    "> we just calculated that the \"converted\" probability (or rate) for the old page is *slightly* higher than that of the new page (ToDo 1.4.c). \n",
    "\n",
    "Assume that the old page is better unless the new page proves to be definitely better at a Type I error rate of 5%\n",
    "\n",
    "**$p_{old}$** is the \"converted\" probability (or rate) for the old pages.\n",
    "\n",
    "**$p_{new}$** is the \"converted\" probability (or rate) for the new pages."
   ]
  },
  {
   "cell_type": "markdown",
   "metadata": {},
   "source": [
    "$$H_0: p_{old}  = p_{new}$$\n",
    "\n",
    "$$H_1: p_{old}  ≠ p_{new}$$"
   ]
  },
  {
   "cell_type": "markdown",
   "metadata": {},
   "source": [
    "###  2.2 - Null Hypothesis $H_0$ Testing\n",
    "Under the null hypothesis $H_0$, assume that $p_{new}$ and $p_{old}$ are equal. Furthermore, assume that $p_{new}$ and $p_{old}$ both are equal to the **converted** success rate in the `df2` data regardless of the page. So, our assumption is: <br><br>\n",
    "<center>\n",
    "$p_{new}$ = $p_{old}$ = $p_{population}$\n",
    "</center>\n",
    "\n",
    "In this section, we will: \n",
    "\n",
    "- Simulate (bootstrap) sample data set for both groups, and compute the  \"converted\" probability $p$ for those samples. \n",
    "\n",
    "\n",
    "- Use a sample size for each group equal to the ones in the `df2` data.\n",
    "\n",
    "\n",
    "- Compute the difference in the \"converted\" probability for the two samples above. \n",
    "\n",
    "\n",
    "- Perform the sampling distribution for the \"difference in the converted probability\" between the two simulated-samples over 10,000 iterations; and calculate an estimate. "
   ]
  },
  {
   "cell_type": "markdown",
   "metadata": {},
   "source": [
    "**a.** What is the **conversion rate** for $p_{new}$ under the null hypothesis? "
   ]
  },
  {
   "cell_type": "code",
   "execution_count": 26,
   "metadata": {},
   "outputs": [
    {
     "data": {
      "text/plain": [
       "0.11959708724499628"
      ]
     },
     "execution_count": 26,
     "metadata": {},
     "output_type": "execute_result"
    }
   ],
   "source": [
    "df2.converted.mean()"
   ]
  },
  {
   "cell_type": "markdown",
   "metadata": {},
   "source": [
    "**b.** What is the **conversion rate** for $p_{old}$ under the null hypothesis? "
   ]
  },
  {
   "cell_type": "code",
   "execution_count": 27,
   "metadata": {},
   "outputs": [
    {
     "data": {
      "text/plain": [
       "0.11959708724499628"
      ]
     },
     "execution_count": 27,
     "metadata": {},
     "output_type": "execute_result"
    }
   ],
   "source": [
    "df2.converted.mean()"
   ]
  },
  {
   "cell_type": "markdown",
   "metadata": {},
   "source": [
    "**c.** What is $n_{new}$, the number of individuals in the treatment group? <br><br>\n",
    "*Hint*: The treatment group users are shown the new page."
   ]
  },
  {
   "cell_type": "code",
   "execution_count": 28,
   "metadata": {},
   "outputs": [
    {
     "data": {
      "text/plain": [
       "(145310, 5)"
      ]
     },
     "execution_count": 28,
     "metadata": {},
     "output_type": "execute_result"
    }
   ],
   "source": [
    "df2.query('landing_page==\"new_page\"').shape"
   ]
  },
  {
   "cell_type": "markdown",
   "metadata": {},
   "source": [
    "**d.** What is $n_{old}$, the number of individuals in the control group?"
   ]
  },
  {
   "cell_type": "code",
   "execution_count": 29,
   "metadata": {},
   "outputs": [
    {
     "data": {
      "text/plain": [
       "(145274, 5)"
      ]
     },
     "execution_count": 29,
     "metadata": {},
     "output_type": "execute_result"
    }
   ],
   "source": [
    "df2.query('landing_page==\"old_page\"').shape"
   ]
  },
  {
   "cell_type": "markdown",
   "metadata": {},
   "source": [
    "**e. Simulate Sample for the `treatment` Group**<br> \n",
    "Simulate $n_{new}$ transactions with a conversion rate of $p_{new}$ under the null hypothesis.  <br><br>"
   ]
  },
  {
   "cell_type": "code",
   "execution_count": 30,
   "metadata": {},
   "outputs": [],
   "source": [
    "size_n =df2.query('group==\"treatment\"').shape[0]"
   ]
  },
  {
   "cell_type": "code",
   "execution_count": 31,
   "metadata": {},
   "outputs": [],
   "source": [
    "new_page_converted = np.random.choice([0, 1], size_n, p=[0.5, 0.5])"
   ]
  },
  {
   "cell_type": "code",
   "execution_count": 32,
   "metadata": {},
   "outputs": [
    {
     "data": {
      "text/plain": [
       "array([1, 1, 0, ..., 1, 1, 1])"
      ]
     },
     "execution_count": 32,
     "metadata": {},
     "output_type": "execute_result"
    }
   ],
   "source": [
    "new_page_converted"
   ]
  },
  {
   "cell_type": "markdown",
   "metadata": {},
   "source": [
    "**f. Simulate Sample for the `control` Group** <br>\n",
    "Simulate $n_{old}$ transactions with a conversion rate of $p_{old}$ under the null hypothesis. <br> Store these $n_{old}$ 1's and 0's in the `old_page_converted` numpy array."
   ]
  },
  {
   "cell_type": "code",
   "execution_count": 33,
   "metadata": {},
   "outputs": [
    {
     "data": {
      "text/plain": [
       "array([1, 0, 0, ..., 1, 0, 0])"
      ]
     },
     "execution_count": 33,
     "metadata": {},
     "output_type": "execute_result"
    }
   ],
   "source": [
    "size_o =df2.query('group==\"treatment\"').shape[0]\n",
    "old_page_converted = np.random.choice([0, 1], size_o, p=[0.5, 0.5])\n",
    "old_page_converted"
   ]
  },
  {
   "cell_type": "markdown",
   "metadata": {},
   "source": [
    "**g.** Find the difference in the \"converted\" probability $(p{'}_{new}$ - $p{'}_{old})$ for your simulated samples from the parts (e) and (f) above. "
   ]
  },
  {
   "cell_type": "code",
   "execution_count": 34,
   "metadata": {},
   "outputs": [
    {
     "data": {
      "text/plain": [
       "0.0034546830913219639"
      ]
     },
     "execution_count": 34,
     "metadata": {},
     "output_type": "execute_result"
    }
   ],
   "source": [
    "new_page_converted.mean()-old_page_converted.mean()"
   ]
  },
  {
   "cell_type": "markdown",
   "metadata": {},
   "source": [
    "\n",
    "**h. Sampling distribution** <br>\n",
    "Re-create `new_page_converted` and `old_page_converted` and find the $(p{'}_{new}$ - $p{'}_{old})$ value 10,000 times using the same simulation process you used in parts (a) through (g) above. \n",
    "\n",
    "<br>\n",
    "Store all  $(p{'}_{new}$ - $p{'}_{old})$  values in a NumPy array called `p_diffs`."
   ]
  },
  {
   "cell_type": "code",
   "execution_count": 35,
   "metadata": {},
   "outputs": [],
   "source": [
    "new_means, old_means, p_diffs = [], [], []\n",
    "\n",
    "for _ in range(10000):\n",
    "    new_page_converted = np.random.choice([0, 1], size_n, p=[0.5, 0.5])\n",
    "    old_page_converted = np.random.choice([0, 1], size_o, p=[0.5, 0.5])\n",
    "    new_mean =new_page_converted.mean()\n",
    "    old_mean =old_page_converted.mean()\n",
    "    # append the info \n",
    "    old_means.append(old_mean)\n",
    "    new_means.append(new_mean)\n",
    "    p_diffs.append(new_mean - old_mean)   "
   ]
  },
  {
   "cell_type": "code",
   "execution_count": 36,
   "metadata": {},
   "outputs": [
    {
     "data": {
      "text/plain": [
       "[0.00053678342853213934,\n",
       " -0.00049549239556800906,\n",
       " -0.0031931732158832493,\n",
       " -0.00046108320143145587,\n",
       " 2.7527355309309165e-05,\n",
       " -0.00024774619778406004,\n",
       " 0.0001307549377193018,\n",
       " 0.0005780744614961586,\n",
       " 0.0031037093111280223,\n",
       " -0.00093593008051751081,\n",
       " 0.00045420136260410082,\n",
       " 0.00059183813915075767,\n",
       " -0.00017204597068337657,\n",
       " 0.0036680200949694153,\n",
       " 0.0032482279265019787,\n",
       " -0.00033721010253939809,\n",
       " 0.002732090014451849,\n",
       " 0.00097722111348153007,\n",
       " -0.0017686325786249735,\n",
       " 0.00015140045420136694,\n",
       " 0.00037850113550341735,\n",
       " 0.0038263023879980818,\n",
       " -0.0016929323515243455,\n",
       " -0.00070194756038816086,\n",
       " -0.0010253939852727934,\n",
       " 0.0015828229302869978,\n",
       " -0.0021815429082651105,\n",
       " 0.00050925607322271915,\n",
       " -0.0011492670841649066,\n",
       " 0.0019888514210996688,\n",
       " -0.00022710068130205041,\n",
       " 0.0011423852453376071,\n",
       " -0.00010322758241004815,\n",
       " -0.0014933590255316598,\n",
       " -0.0012593765054022543,\n",
       " 0.0018374509668983574,\n",
       " 0.00022021884247469536,\n",
       " 0.00023398252012940546,\n",
       " -0.0015621774138050437,\n",
       " 0.0020026150987544344,\n",
       " -0.00072947491569741452,\n",
       " 0.00099098479113612914,\n",
       " -0.00011010942123734768,\n",
       " -0.00050925607322283017,\n",
       " -0.00093593008051751081,\n",
       " -0.0010529213405822135,\n",
       " 0.0017892780951070941,\n",
       " 0.001617232124423662,\n",
       " 0.00099098479113618465,\n",
       " -0.00042667400729479166,\n",
       " 0.00083270249810746266,\n",
       " -0.00077764778748878882,\n",
       " -0.0009841029523088296,\n",
       " -0.00059183813915081318,\n",
       " 0.0014864771867043047,\n",
       " -0.0005643107838414485,\n",
       " 0.0028077902415524769,\n",
       " -0.003055536439336537,\n",
       " -0.00090840272520820164,\n",
       " -0.0018993875163443863,\n",
       " -0.0010873305347188222,\n",
       " -0.0011079760512008874,\n",
       " -0.0013626040878123025,\n",
       " 0.00011010942123734768,\n",
       " 0.0016516413185603263,\n",
       " 0.0028009084027252329,\n",
       " 0.0016447594797330267,\n",
       " -0.0018925056775169757,\n",
       " 0.0014864771867042492,\n",
       " -0.00086022985341682734,\n",
       " -0.00044731952377674578,\n",
       " -0.0029798362122358535,\n",
       " 0.0039432936480627845,\n",
       " 0.00242240726722176,\n",
       " 0.0011767944394742158,\n",
       " 0.00059183813915075767,\n",
       " 0.00040602849081283754,\n",
       " -0.0007707659486615448,\n",
       " 6.8818388273328424e-05,\n",
       " -0.0026288624320418563,\n",
       " 0.00077764778748878882,\n",
       " -0.00061248365563282281,\n",
       " 0.0011974399559561699,\n",
       " -1.3763677654710094e-05,\n",
       " 0.0012524946665749548,\n",
       " 0.001293785699538863,\n",
       " -0.00024774619778406004,\n",
       " 0.0012456128277475442,\n",
       " 0.00013075493771935731,\n",
       " 0.0021884247470924101,\n",
       " -0.0031243548276099764,\n",
       " 0.0011836762783015709,\n",
       " -0.00084646617576211725,\n",
       " 0.0016722868350422804,\n",
       " -0.0022159521024017748,\n",
       " 0.00073635675452482507,\n",
       " -0.00042667400729479166,\n",
       " 0.0025462803661138178,\n",
       " 0.00068130204390615123,\n",
       " -6.8818388273550468e-06,\n",
       " 0.0040465212304727771,\n",
       " 0.0012800220218842639,\n",
       " -0.0026701534650058201,\n",
       " -0.00077076594866143378,\n",
       " -0.00084646617576211725,\n",
       " 0.00039914665198548249,\n",
       " 0.0032138187323652589,\n",
       " -0.0022847704906751587,\n",
       " 0.00076388410983413424,\n",
       " -0.0017617507397976739,\n",
       " -0.00022021884247469536,\n",
       " -0.0051407336040189544,\n",
       " -0.0017273415456610652,\n",
       " -0.0018787419998623767,\n",
       " -0.00035097378019410819,\n",
       " 0.00030280090840273388,\n",
       " 0.0014933590255316598,\n",
       " -0.0010185121464455493,\n",
       " 0.0010185121464454938,\n",
       " -0.0033514555089120268,\n",
       " -0.00012387309889200226,\n",
       " 0.0024499346225311802,\n",
       " 9.6345743582637589e-05,\n",
       " 0.0045007225930768779,\n",
       " -0.0027940265638978778,\n",
       " 0.00030280090840273388,\n",
       " -0.00086711169224418239,\n",
       " 0.0016860505126969905,\n",
       " -7.570022710068347e-05,\n",
       " -0.002098960842337072,\n",
       " -0.0018718601610350216,\n",
       " 0.0010873305347188778,\n",
       " -0.0030830637946459571,\n",
       " -0.0021402518753010913,\n",
       " -0.0027458536921065035,\n",
       " 0.0023467070401210766,\n",
       " -0.00039226481315807193,\n",
       " 0.001617232124423662,\n",
       " 0.0014107769596036213,\n",
       " -0.00086711169224418239,\n",
       " 0.00028215539192077976,\n",
       " -0.0020576698093730528,\n",
       " 0.0011630307618196167,\n",
       " -0.0017342233844883648,\n",
       " -0.00029591906957537883,\n",
       " -0.00010322758241004815,\n",
       " -0.00024774619778400453,\n",
       " 0.0024636983001857793,\n",
       " -0.0027527355309338586,\n",
       " -0.002016378776409089,\n",
       " 0.0015828229302869423,\n",
       " 0.0014864771867043047,\n",
       " 0.0011217397288554865,\n",
       " 0.0018580964833803115,\n",
       " 0.0022159521024017748,\n",
       " 0.0020507879705457532,\n",
       " 0.00029591906957537883,\n",
       " -0.0012662583442295539,\n",
       " -0.00074323859335223563,\n",
       " -0.00016516413185607703,\n",
       " 0.0061386002339824941,\n",
       " -0.00054366526735938336,\n",
       " -0.00027527355309342472,\n",
       " 0.00098410295230888511,\n",
       " -0.00052301975087742925,\n",
       " -0.0015415318973229786,\n",
       " -0.0027802628862431122,\n",
       " -0.0027871447250705228,\n",
       " 0.00052990158970478429,\n",
       " 0.0028490812745165517,\n",
       " -0.002732090014451849,\n",
       " 0.0011355034065101965,\n",
       " 0.002339825201293777,\n",
       " 0.00094281191934481035,\n",
       " 0.00097033927465423053,\n",
       " -0.000323446424884688,\n",
       " -0.0028284357580344865,\n",
       " -0.00033721010253939809,\n",
       " -0.0011630307618195612,\n",
       " 0.0017342233844883648,\n",
       " 0.0010666850182368681,\n",
       " -1.3763677654654582e-05,\n",
       " 0.0032482279265019232,\n",
       " -1.3763677654654582e-05,\n",
       " -0.00093593008051751081,\n",
       " -0.0011492670841649066,\n",
       " 0.0016860505126969905,\n",
       " -0.0015346500584956235,\n",
       " -0.0029867180510632085,\n",
       " 0.0019337967104810505,\n",
       " 0.0017548689009703189,\n",
       " 0.0041291032964008156,\n",
       " -0.004018993875163468,\n",
       " -0.0021677792306104005,\n",
       " 0.0022641249741930936,\n",
       " 0.0017342233844883648,\n",
       " -0.00045420136260410082,\n",
       " -0.00070194756038810535,\n",
       " 0.00010322758241004815,\n",
       " 0.0023742343954304967,\n",
       " 0.0024499346225311247,\n",
       " 0.0028009084027251774,\n",
       " 0.0023122978459844123,\n",
       " -0.00093593008051751081,\n",
       " -0.0025187530108045086,\n",
       " 0.00058495630032340262,\n",
       " 0.00036473745784870726,\n",
       " -0.00032344642488474351,\n",
       " 4.1291032964019259e-05,\n",
       " 0.0007570022710068347,\n",
       " 0.0014107769596035658,\n",
       " -0.00075012043217942415,\n",
       " 0.0046245956919688802,\n",
       " -0.0025462803661138733,\n",
       " -0.0053609524464937053,\n",
       " 0.0015002408643589593,\n",
       " 0.00034409194136669763,\n",
       " -0.0035923198678687318,\n",
       " -0.00083270249810751817,\n",
       " 0.0021058426811643716,\n",
       " -0.00017204597068337657,\n",
       " -0.0034615649301493745,\n",
       " -0.0014245406372582758,\n",
       " -0.0017135778680063551,\n",
       " 0.0010666850182368681,\n",
       " -0.0013075493771936286,\n",
       " -0.001534650058495679,\n",
       " -0.0025049893331497985,\n",
       " 0.0,\n",
       " -0.0014933590255316043,\n",
       " -0.0024636983001858348,\n",
       " 0.00091528456403555669,\n",
       " -0.00072259307687005947,\n",
       " -0.00077764778748889984,\n",
       " -0.0005780744614961586,\n",
       " -0.0014245406372582758,\n",
       " 0.0033996283807032901,\n",
       " -0.00015828229302872199,\n",
       " -0.0022847704906751587,\n",
       " -0.00055742894501409346,\n",
       " -0.0012180854724382351,\n",
       " 0.0019200330328263959,\n",
       " 0.0014107769596035658,\n",
       " -0.0010873305347188222,\n",
       " -0.0019475603881357051,\n",
       " 0.0012800220218842084,\n",
       " 0.0016585231573875703,\n",
       " 0.001293785699538974,\n",
       " -0.0015277682196682685,\n",
       " 0.00077076594866143378,\n",
       " -0.0013970132819488557,\n",
       " -0.0021264881976464922,\n",
       " -0.0017066960291790001,\n",
       " 0.0014383043149129859,\n",
       " -0.00071571123804281545,\n",
       " 0.00039914665198542698,\n",
       " -0.0013213130548482832,\n",
       " -7.570022710068347e-05,\n",
       " -0.002732090014451849,\n",
       " -0.0018099236115890482,\n",
       " 0.001452067992567585,\n",
       " -0.0001926914871653862,\n",
       " -0.0029316633404445902,\n",
       " 0.00039226481315812745,\n",
       " -0.0011974399559562254,\n",
       " 0.0018443328057256569,\n",
       " -0.00072259307687017049,\n",
       " -0.00071571123804281545,\n",
       " 8.9463904755338053e-05,\n",
       " -0.002732090014451849,\n",
       " 0.00037850113550341735,\n",
       " 0.0017135778680062996,\n",
       " 0.0040465212304728326,\n",
       " -0.0023811162342577408,\n",
       " 0.00044731952377674578,\n",
       " -0.00031656458605744398,\n",
       " -0.0026770353038332306,\n",
       " -0.0011492670841648511,\n",
       " 0.0019475603881357606,\n",
       " 0.00086022985341682734,\n",
       " 0.0011423852453376071,\n",
       " -0.00011699126006470273,\n",
       " 0.00057119262266880355,\n",
       " 0.00059871997797811272,\n",
       " -0.0045488954648681412,\n",
       " 0.0011974399559562809,\n",
       " -0.0065652742412773413,\n",
       " 5.5054710618729352e-05,\n",
       " 0.0024568164613584798,\n",
       " -0.00087399353107148192,\n",
       " -0.002738971853279204,\n",
       " 0.0023948799119125064,\n",
       " 0.0023122978459844123,\n",
       " -0.0030348909228545828,\n",
       " -0.0030486546005092929,\n",
       " -0.00090152088638079109,\n",
       " -0.0032000550547106044,\n",
       " 0.00026150987543871462,\n",
       " 0.00010322758240999264,\n",
       " 0.0016034684467690075,\n",
       " 0.0027527355309339141,\n",
       " 0.0018718601610350216,\n",
       " -6.8818388273328424e-05,\n",
       " -0.0019544422269631156,\n",
       " -0.0017548689009703189,\n",
       " -0.0011699126006469163,\n",
       " -0.0022572431353657385,\n",
       " 0.00055742894501414897,\n",
       " 0.0034065102195307007,\n",
       " 0.0017617507397976739,\n",
       " -0.0012731401830568534,\n",
       " -0.00068818388273350628,\n",
       " -0.00017892780951073162,\n",
       " 0.0012800220218842084,\n",
       " 0.00014451861537401189,\n",
       " 0.0011767944394742158,\n",
       " -0.0001307549377193018,\n",
       " -0.00062624733328747739,\n",
       " -0.003227582410019969,\n",
       " -0.0017204597068337102,\n",
       " -0.0020301424540637436,\n",
       " 0.00083958433693487322,\n",
       " 0.00074323859335218012,\n",
       " 0.0035510288349047126,\n",
       " -0.0016654049962149808,\n",
       " 0.0016516413185603263,\n",
       " 0.0024224072672218155,\n",
       " 0.0030211272451999283,\n",
       " -0.0047209414355516288,\n",
       " 3.4409194136664212e-05,\n",
       " -0.00081893882045280808,\n",
       " 0.00011010942123734768,\n",
       " 0.00027527355309331369,\n",
       " 0.00046796504025881092,\n",
       " -0.00076388410983407873,\n",
       " -0.0018649783222077221,\n",
       " -0.00039226481315812745,\n",
       " 0.0010116303076181388,\n",
       " -0.00019957332599263022,\n",
       " 0.0010804486958914672,\n",
       " -0.0024705801390131343,\n",
       " -0.0015965866079415969,\n",
       " 0.00083270249810751817,\n",
       " 0.0013901314431216116,\n",
       " 0.0005780744614961586,\n",
       " -0.003702429289106024,\n",
       " 0.00052301975087742925,\n",
       " 0.0007088293992154604,\n",
       " -0.0030899456334732567,\n",
       " -0.0022021884247470647,\n",
       " 0.0010391576629275034,\n",
       " 0.0025118711719771536,\n",
       " -0.0010460395017548585,\n",
       " -0.0024705801390130788,\n",
       " -0.0010804486958915227,\n",
       " 0.0014107769596035658,\n",
       " 0.00030968274723008893,\n",
       " -0.0018099236115889927,\n",
       " -0.001369485926639602,\n",
       " 0.00039226481315812745,\n",
       " 0.00047484687908611045,\n",
       " -0.0036817837726240699,\n",
       " 0.0010253939852729044,\n",
       " 0.00017204597068337657,\n",
       " 0.0018787419998623767,\n",
       " 0.0043424403000482115,\n",
       " 0.006290000688183861,\n",
       " -0.00040602849081272652,\n",
       " -0.0032826371206386429,\n",
       " 0.00046108320143145587,\n",
       " -0.00071571123804270442,\n",
       " -0.001362604087812247,\n",
       " 0.0019888514210997243,\n",
       " 0.00083958433693481771,\n",
       " -0.0047622324685155371,\n",
       " 0.00099098479113618465,\n",
       " -0.0027252081756244939,\n",
       " 0.00047484687908616596,\n",
       " -7.570022710068347e-05,\n",
       " 0.002098960842337072,\n",
       " -0.0010391576629275034,\n",
       " 0.0017686325786249735,\n",
       " -0.00039226481315812745,\n",
       " -0.0028697267909986168,\n",
       " -0.00037850113550341735,\n",
       " -0.0032895189594659424,\n",
       " -0.0016378776409056717,\n",
       " -0.00086711169224412687,\n",
       " 0.0013350767325028823,\n",
       " 0.00084646617576222827,\n",
       " 0.0010047484687908392,\n",
       " -0.0021402518753010913,\n",
       " -0.00054366526735943888,\n",
       " 0.0013832496042943121,\n",
       " -0.00028215539192072425,\n",
       " 0.002573807721423127,\n",
       " 0.0010735668570641677,\n",
       " 0.00169293235152429,\n",
       " 8.9463904755393564e-05,\n",
       " -0.00033721010253939809,\n",
       " -0.00062624733328742188,\n",
       " 0.00043355584612203568,\n",
       " 0.0013763677654669015,\n",
       " 0.00088087536989883697,\n",
       " 0.00017892780951067611,\n",
       " -0.00194067854930835,\n",
       " -0.00070194756038816086,\n",
       " 0.00094281191934486586,\n",
       " 0.0021884247470924101,\n",
       " 0.001039157662927559,\n",
       " 0.00078452962631614387,\n",
       " -0.0011492670841649066,\n",
       " -7.570022710068347e-05,\n",
       " 0.00060560181680546776,\n",
       " 0.0035992017066959758,\n",
       " 0.0023122978459844123,\n",
       " -0.0014176587984309763,\n",
       " -0.0034065102195307007,\n",
       " -0.0013694859266396575,\n",
       " -0.0013832496042943121,\n",
       " -0.0015621774138049882,\n",
       " 0.0036955474502787244,\n",
       " -0.0012593765054021988,\n",
       " -0.0016378776409056717,\n",
       " -0.0018374509668983574,\n",
       " -0.0023879980730850958,\n",
       " 0.0026563897873511655,\n",
       " 0.0015002408643589593,\n",
       " 0.00019957332599263022,\n",
       " -0.0014245406372582203,\n",
       " 0.00079829330397085396,\n",
       " 0.00069506572156080582,\n",
       " -0.00043355584612203568,\n",
       " -0.0023604707177758422,\n",
       " -0.0012800220218842084,\n",
       " -0.00050237423439541962,\n",
       " -0.0011492670841648511,\n",
       " 0.00064689284976948702,\n",
       " -0.0010804486958915227,\n",
       " -0.0014176587984309208,\n",
       " 0.0020026150987544344,\n",
       " -0.0016654049962150363,\n",
       " 0.0019682059046177702,\n",
       " -0.0027940265638978778,\n",
       " 0.0053403069300117512,\n",
       " -0.00055054710618679392,\n",
       " 0.0015828229302869978,\n",
       " -0.0020576698093730528,\n",
       " 0.00059871997797811272,\n",
       " -0.00094281191934481035,\n",
       " -0.0001926914871653862,\n",
       " 0.0022021884247470647,\n",
       " 0.0025738077214231825,\n",
       " -0.0024086435895671054,\n",
       " 0.0020232606152363886,\n",
       " 0.00019269148716527518,\n",
       " 0.00025462803661141509,\n",
       " -0.0022159521024017192,\n",
       " -0.0014795953478769497,\n",
       " -0.00051613791205018522,\n",
       " 0.00089463904755349155,\n",
       " -0.00048861055674076503,\n",
       " -0.0012731401830569089,\n",
       " 0.00095657559699946493,\n",
       " -0.0026082169155598467,\n",
       " -0.0037437203220700432,\n",
       " -0.0016034684467689519,\n",
       " 0.00018580964833803115,\n",
       " -0.00092904824169021127,\n",
       " 0.0016929323515243455,\n",
       " -4.8172871791263283e-05,\n",
       " 0.0016585231573876258,\n",
       " -0.0037643658385521084,\n",
       " -0.0019613240657903597,\n",
       " -0.00035097378019405268,\n",
       " 0.0039639391645447386,\n",
       " -0.00033721010253939809,\n",
       " 0.002009496937581734,\n",
       " 0.0018512146445530675,\n",
       " 0.00029591906957537883,\n",
       " 0.0031174729887826214,\n",
       " 0.0014314224760855754,\n",
       " -0.00029591906957537883,\n",
       " 4.1291032964019259e-05,\n",
       " 0.00021333700364739583,\n",
       " 0.0012112036336109355,\n",
       " 0.0012524946665748993,\n",
       " 0.0016447594797330267,\n",
       " 0.0027871447250705228,\n",
       " -0.0015552955749776887,\n",
       " 0.0035579106737320121,\n",
       " -0.0023673525566031417,\n",
       " 0.0042185672011561537,\n",
       " 0.0019200330328263959,\n",
       " -0.0010116303076181943,\n",
       " 0.0026013350767325472,\n",
       " -0.0030348909228545273,\n",
       " -6.8818388273328424e-05,\n",
       " 0.00055054710618673841,\n",
       " 0.0026701534650058201,\n",
       " 0.0014727135090496501,\n",
       " -0.0015208863808410245,\n",
       " -0.00046796504025881092,\n",
       " 0.0012180854724381796,\n",
       " -0.00019957332599263022,\n",
       " -0.002250361296538439,\n",
       " 0.00058495630032345813,\n",
       " -0.0038263023879980818,\n",
       " -0.0013763677654669015,\n",
       " -0.0021127245199917821,\n",
       " 0.0024430527837037697,\n",
       " -0.0017135778680062996,\n",
       " -0.0007707659486615448,\n",
       " -0.0029660725345811989,\n",
       " -0.001933796710481106,\n",
       " -0.0013832496042943121,\n",
       " 0.0012318491500929452,\n",
       " 0.0006124836556327673,\n",
       " -0.00039226481315812745,\n",
       " -0.0030073635675452737,\n",
       " 0.0016034684467689519,\n",
       " -0.00035097378019399716,\n",
       " 0.0011010942123735323,\n",
       " -0.0015621774138049327,\n",
       " -0.0019819695822723138,\n",
       " -0.0029660725345811989,\n",
       " 0.0026701534650058201,\n",
       " -0.004349322138875511,\n",
       " 0.0031518821829192856,\n",
       " -0.0011423852453374961,\n",
       " -0.0013144312160209282,\n",
       " -0.00038538297433066138,\n",
       " 0.0011905581171289259,\n",
       " -0.0009841029523088296,\n",
       " 0.0012662583442295539,\n",
       " 0.002897254146307926,\n",
       " 0.0021127245199917266,\n",
       " -0.0011699126006469163,\n",
       " 0.0021608973917830454,\n",
       " 0.0008877572087261365,\n",
       " -0.00064689284976948702,\n",
       " -0.00013763677654665685,\n",
       " -0.0011561489229922062,\n",
       " -8.2582065928038517e-05,\n",
       " -0.0011699126006469163,\n",
       " 6.1936549445973377e-05,\n",
       " -0.00084646617576211725,\n",
       " 0.0015208863808409689,\n",
       " -0.0021127245199917821,\n",
       " -0.00076388410983413424,\n",
       " -0.00021333700364734032,\n",
       " -0.00012387309889205778,\n",
       " 0.00045420136260410082,\n",
       " 0.0040671667469547312,\n",
       " -0.00026839171426606967,\n",
       " 0.00097033927465417502,\n",
       " 0.0013075493771935731,\n",
       " 0.0023604707177757867,\n",
       " 0.0013901314431216116,\n",
       " -0.0011492670841648511,\n",
       " 0.0004335558461221467,\n",
       " 0.00012387309889200226,\n",
       " 8.2582065928038517e-05,\n",
       " 0.00079141146514349892,\n",
       " -0.00029591906957537883,\n",
       " 0.00054366526735943888,\n",
       " -0.0010529213405822135,\n",
       " 0.0017548689009703189,\n",
       " -0.00068818388273350628,\n",
       " 0.0022847704906750477,\n",
       " 0.00014451861537406741,\n",
       " -0.0016034684467690075,\n",
       " -0.00538847980180307,\n",
       " 0.00083270249810751817,\n",
       " -0.00044731952377674578,\n",
       " 0.0030348909228545273,\n",
       " -0.0016378776409056162,\n",
       " 0.0030899456334733122,\n",
       " 0.0019682059046176592,\n",
       " 3.4409194136664212e-05,\n",
       " 0.0045213681095588876,\n",
       " -0.00077076594866148929,\n",
       " -0.00086711169224418239,\n",
       " 0.0035166196407679928,\n",
       " 0.0035854380290413768,\n",
       " 0.0015002408643589593,\n",
       " 0.00075700227100677919,\n",
       " -0.00075700227100672368,\n",
       " -0.0018718601610350216,\n",
       " -0.0017342233844883093,\n",
       " 0.003378982864221336,\n",
       " -0.00015140045420136694,\n",
       " -0.00018580964833803115,\n",
       " -0.0013419585713302928,\n",
       " 0.0029178996627898801,\n",
       " -0.0023467070401211321,\n",
       " 0.00046108320143140036,\n",
       " 0.0010666850182369236,\n",
       " -0.00029591906957532332,\n",
       " -0.00033032826371209856,\n",
       " 0.0030761819558185466,\n",
       " -0.0032000550547106044,\n",
       " -0.0025393985272865183,\n",
       " 0.0010116303076181943,\n",
       " 0.0019131511939990409,\n",
       " -0.00064689284976948702,\n",
       " -0.00041291032964008156,\n",
       " -0.00084646617576211725,\n",
       " -0.0021953065859197096,\n",
       " -0.0027114444979698393,\n",
       " 0.00095657559699952044,\n",
       " 0.0019475603881357051,\n",
       " 0.00019957332599274125,\n",
       " -0.0009015208863808466,\n",
       " -0.00093593008051751081,\n",
       " 0.0027389718532791485,\n",
       " 0.0038607115821346905,\n",
       " 0.00019957332599274125,\n",
       " -5.5054710618729352e-05,\n",
       " -0.00029591906957548986,\n",
       " 0.0035235014795953479,\n",
       " -0.00055054710618673841,\n",
       " 0.00042667400729473615,\n",
       " -0.001128621567682897,\n",
       " -0.0021953065859197651,\n",
       " -0.0016998141903515895,\n",
       " -0.0015140045420135584,\n",
       " -0.0012800220218842639,\n",
       " -9.6345743582637589e-05,\n",
       " 0.00057119262266869253,\n",
       " -0.0010322758241001484,\n",
       " 0.0021884247470924101,\n",
       " 0.0023673525566031972,\n",
       " -0.0019750877434450698,\n",
       " 0.00046108320143134485,\n",
       " 0.0021677792306104005,\n",
       " -0.0027320900144519045,\n",
       " 0.00070194756038810535,\n",
       " -0.00047484687908611045,\n",
       " -6.8818388272995357e-06,\n",
       " 0.0037574839997247533,\n",
       " 0.0016447594797329712,\n",
       " 0.0015828229302869978,\n",
       " 0.0011492670841649621,\n",
       " -0.0015484137361502226,\n",
       " 0.00019957332599263022,\n",
       " -0.0029867180510632085,\n",
       " -0.0013350767325029933,\n",
       " -0.00052990158970478429,\n",
       " 0.00086711169224418239,\n",
       " 0.0011148578900281869,\n",
       " 0.0022434794577111394,\n",
       " 0.0019131511939990409,\n",
       " 0.0029660725345811989,\n",
       " 2.0645516482009629e-05,\n",
       " -0.0044456678824581486,\n",
       " -0.00011699126006470273,\n",
       " -0.00078452962631614387,\n",
       " 0.0008877572087261365,\n",
       " 6.8818388272995357e-06,\n",
       " 0.004831050856788921,\n",
       " -0.0011699126006468052,\n",
       " -0.0035992017066960313,\n",
       " 0.00039226481315801642,\n",
       " 0.00030280090840273388,\n",
       " 0.00097033927465423053,\n",
       " -0.002009496937581734,\n",
       " -0.0016034684467689519,\n",
       " 0.0026701534650058201,\n",
       " 0.0022847704906751032,\n",
       " 0.0017479870621430194,\n",
       " 5.5054710618729352e-05,\n",
       " 0.0019613240657903597,\n",
       " -0.0015965866079416524,\n",
       " -0.00054366526735949439,\n",
       " 0.00097722111348153007,\n",
       " -0.0052990158970476764,\n",
       " 0.0010666850182368681,\n",
       " -0.0023122978459844123,\n",
       " -0.00030968274723008893,\n",
       " -0.0016585231573876813,\n",
       " 9.6345743582637589e-05,\n",
       " 0.0037643658385519974,\n",
       " -0.00035097378019410819,\n",
       " -9.6345743582637589e-05,\n",
       " 0.0020920790035096615,\n",
       " 0.00048861055674076503,\n",
       " 0.00084646617576211725,\n",
       " -0.0034890922854586837,\n",
       " 0.001699814190351645,\n",
       " -0.00095657559699952044,\n",
       " -0.00068130204390615123,\n",
       " -0.00088087536989883697,\n",
       " -0.0012180854724382351,\n",
       " -0.001699814190351645,\n",
       " 0.0021677792306104005,\n",
       " -0.0023879980730851513,\n",
       " 0.00075012043217947966,\n",
       " 0.0016034684467690075,\n",
       " -0.0011423852453375516,\n",
       " 0.00077076594866143378,\n",
       " -0.0016722868350423359,\n",
       " 0.0048792237285802398,\n",
       " 0.0038331842268253813,\n",
       " -0.00077764778748878882,\n",
       " 0.001452067992567585,\n",
       " 0.00099098479113624016,\n",
       " -0.0010185121464454938,\n",
       " 0.0030073635675452737,\n",
       " 0.0016791686738696354,\n",
       " -0.0012112036336109355,\n",
       " 0.0013970132819489667,\n",
       " -0.00081205698162545303,\n",
       " -0.0050306241827816622,\n",
       " 0.00026150987543871462,\n",
       " -0.00018580964833803115,\n",
       " -0.0011836762783015153,\n",
       " -0.00055742894501409346,\n",
       " 0.0027183263367971389,\n",
       " 0.00079141146514349892,\n",
       " 0.0016309958020783166,\n",
       " 0.00041979216846749212,\n",
       " -0.0030211272451998727,\n",
       " -0.0040465212304727216,\n",
       " 0.0025187530108044531,\n",
       " -0.00044043768494939073,\n",
       " 0.0028628449521712063,\n",
       " 0.0014314224760856309,\n",
       " 0.0017479870621429638,\n",
       " 0.0022228339412290743,\n",
       " 0.001851214644553012,\n",
       " -0.0009978666299635397,\n",
       " -0.00169293235152429,\n",
       " -0.00055054710618679392,\n",
       " -0.0019062693551717413,\n",
       " 0.0011905581171289259,\n",
       " -0.0012937856995389185,\n",
       " 0.0026907989814878297,\n",
       " 0.0010666850182368681,\n",
       " -0.00024774619778400453,\n",
       " -0.0024499346225311247,\n",
       " -0.0010322758241002039,\n",
       " -2.7527355309309165e-05,\n",
       " 0.00037850113550341735,\n",
       " 0.0010253939852727934,\n",
       " 0.0030830637946459571,\n",
       " 0.0017135778680062996,\n",
       " 0.00065377468859678656,\n",
       " 0.0020507879705456977,\n",
       " 0.00079141146514349892,\n",
       " 0.0017135778680064107,\n",
       " 0.0026082169155598467,\n",
       " 0.00040602849081272652,\n",
       " 0.0017342233844883093,\n",
       " -0.0019475603881357051,\n",
       " 0.00022021884247469536,\n",
       " -0.0026907989814878297,\n",
       " 0.00086711169224412687,\n",
       " -0.0017617507397976739,\n",
       " -0.0001926914871653862,\n",
       " 0.0016447594797330267,\n",
       " 0.0025944532379051366,\n",
       " 8.2582065928038517e-05,\n",
       " 0.0012318491500929452,\n",
       " -0.0019750877434450143,\n",
       " 0.0015415318973229786,\n",
       " 0.0015621774138049327,\n",
       " 0.00144518615374023,\n",
       " 0.0025669258825958274,\n",
       " -9.6345743582748611e-05,\n",
       " 0.0014176587984309763,\n",
       " 0.0018168054504164033,\n",
       " 0.0016585231573876258,\n",
       " -0.0018305691280710024,\n",
       " 0.0017479870621430194,\n",
       " -0.0018787419998623212,\n",
       " 0.00080517514279809799,\n",
       " -0.00018580964833803115,\n",
       " 0.00039226481315807193,\n",
       " 0.0010666850182368681,\n",
       " 0.00035097378019410819,\n",
       " 6.8818388273550468e-06,\n",
       " 0.00082582065928016313,\n",
       " -0.00096345743582687549,\n",
       " 0.0013970132819489667,\n",
       " -0.0016998141903517006,\n",
       " 0.0045970683366595155,\n",
       " -0.00066753836625144114,\n",
       " 0.00044043768494950175,\n",
       " -0.0022021884247471202,\n",
       " 0.0017342233844883093,\n",
       " 0.0038744752597894005,\n",
       " 0.0014176587984309208,\n",
       " 0.00037161929667606231,\n",
       " -0.001534650058495568,\n",
       " 0.00018580964833803115,\n",
       " -0.0013350767325028823,\n",
       " -0.00080517514279820901,\n",
       " 0.00169293235152429,\n",
       " 0.0016791686738696354,\n",
       " 0.0020851971646823619,\n",
       " -0.0027871447250705228,\n",
       " 0.00015828229302861097,\n",
       " 0.00083270249810746266,\n",
       " 0.0020851971646824174,\n",
       " -0.001617232124423662,\n",
       " 0.0028009084027251774,\n",
       " -0.00068130204390615123,\n",
       " -0.00084646617576222827,\n",
       " 0.00090840272520820164,\n",
       " -0.0044181405271487839,\n",
       " -0.0027183263367972499,\n",
       " -0.00060560181680546776,\n",
       " 0.0015897047691142419,\n",
       " -0.0028903723074805154,\n",
       " 0.00010322758240999264,\n",
       " -0.0018856238386897317,\n",
       " -0.00072947491569747003,\n",
       " 0.00065377468859678656,\n",
       " -0.00037850113550341735,\n",
       " 0.0013832496042942566,\n",
       " -0.0010322758241001484,\n",
       " -0.0035441469960773575,\n",
       " 0.0011561489229922062,\n",
       " -0.0033376918312573167,\n",
       " 0.00025462803661135958,\n",
       " 0.0015828229302869978,\n",
       " -0.002174661069437811,\n",
       " 0.00083958433693481771,\n",
       " -0.0038400660656526808,\n",
       " 0.00067442020507879619,\n",
       " 0.0027940265638979334,\n",
       " 0.0013281948936755827,\n",
       " 0.0031794095382285947,\n",
       " 0.00037161929667606231,\n",
       " 0.0017342233844883093,\n",
       " -0.001376367765466957,\n",
       " -0.0051063244098823457,\n",
       " -0.00061936549446012235,\n",
       " 0.002332943362466422,\n",
       " 0.0015208863808409689,\n",
       " -0.0015208863808409134,\n",
       " -0.00022710068130205041,\n",
       " -0.0015965866079416524,\n",
       " 0.0020163787764090335,\n",
       " -0.0007707659486615448,\n",
       " 0.0038331842268253813,\n",
       " 0.0036336109008326956,\n",
       " -0.0026839171426605857,\n",
       " -0.0010666850182369236,\n",
       " 0.0019475603881356496,\n",
       " -0.001452067992567585,\n",
       " 0.00049549239556812008,\n",
       " 0.0001307549377193018,\n",
       " 0.00016516413185596601,\n",
       " 0.0024843438166678444,\n",
       " 0.0028766086298259164,\n",
       " 0.0011630307618195612,\n",
       " 0.00022021884247469536,\n",
       " 0.00043355584612203568,\n",
       " -0.0024568164613584242,\n",
       " -0.002821553919207187,\n",
       " -0.00011010942123734768,\n",
       " 0.0005643107838414485,\n",
       " 0.00050925607322277466,\n",
       " -0.0012800220218842639,\n",
       " 0.0026495079485238104,\n",
       " -6.8818388273550468e-06,\n",
       " 0.0028490812745165517,\n",
       " 0.0016516413185603263,\n",
       " 0.0015965866079415969,\n",
       " -0.00043355584612209119,\n",
       " -0.00023398252012940546,\n",
       " -0.0039708210033720936,\n",
       " -0.0013970132819489667,\n",
       " 0.0019957332599270239,\n",
       " -0.00058495630032340262,\n",
       " -0.00024086435895670499,\n",
       " -0.0021746610694377555,\n",
       " 0.0009496937581722209,\n",
       " -0.0028834904686532159,\n",
       " 0.0013626040878123025,\n",
       " 0.00088087536989878146,\n",
       " 0.0008051751427981535,\n",
       " 0.00054366526735938336,\n",
       " -0.001286903860711619,\n",
       " -0.0014107769596036768,\n",
       " -0.0019131511939990964,\n",
       " -0.0025875713990778371,\n",
       " -0.0015759410914596983,\n",
       " 0.0010942123735462883,\n",
       " -0.00024086435895670499,\n",
       " 0.0039639391645447941,\n",
       " 0.0011630307618195612,\n",
       " 0.0038056568715160721,\n",
       " 0.0010804486958915227,\n",
       " -0.00017204597068332106,\n",
       " 0.0014176587984309208,\n",
       " 0.00081893882045275257,\n",
       " 0.004108457779918806,\n",
       " -0.00037850113550341735,\n",
       " 0.00083958433693481771,\n",
       " 0.0013213130548482277,\n",
       " -0.0016654049962149808,\n",
       " 0.0013763677654669015,\n",
       " 0.00041291032964008156,\n",
       " -0.0013144312160209282,\n",
       " -0.0022985341683297023,\n",
       " -0.0021264881976464367,\n",
       " -0.00068818388273345077,\n",
       " -0.0024155254283944605,\n",
       " 0.0016378776409056162,\n",
       " -0.0027596173697612691,\n",
       " 0.00052301975087742925,\n",
       " 0.0011836762783015709,\n",
       " -0.0016654049962149808,\n",
       " 0.0014795953478769497,\n",
       " 0.001121739728855542,\n",
       " -0.00066065652742408609,\n",
       " 0.0015071227031863144,\n",
       " -0.00144518615374023,\n",
       " -0.00026839171426606967,\n",
       " -0.00063312917211477693,\n",
       " 0.0038125387103434272,\n",
       " 0.0003853829743307724,\n",
       " -0.00022710068130205041,\n",
       " 0.00092904824169015576,\n",
       " 0.00039226481315812745,\n",
       " -0.0020301424540636326,\n",
       " 0.0019475603881356496,\n",
       " -0.0017342233844883093,\n",
       " 0.0027045626591424843,\n",
       " -0.00071571123804281545,\n",
       " 0.0007570022710068347,\n",
       " -0.0012593765054022543,\n",
       " -0.0017135778680063551,\n",
       " -0.0012662583442296094,\n",
       " 0.00063312917211477693,\n",
       " -0.00034409194136675314,\n",
       " 0.00056431078384139299,\n",
       " -0.0021953065859197096,\n",
       " -0.0031518821829192856,\n",
       " -0.00121120363361088,\n",
       " -4.8172871791374305e-05,\n",
       " -0.0017755144174523285,\n",
       " -0.0017273415456610097,\n",
       " 0.0036336109008326956,\n",
       " -0.0020232606152363886,\n",
       " -0.0024774619778404894,\n",
       " 0.00022021884247469536,\n",
       " 0.0024292891060491151,\n",
       " 0.0016378776409056717,\n",
       " -0.00055742894501409346,\n",
       " -0.0023191796848118229,\n",
       " 0.00075012043217947966,\n",
       " 0.0026219805932145013,\n",
       " 0.0009978666299635397,\n",
       " 0.0036817837726240699,\n",
       " -0.0013832496042942566,\n",
       " 1.3763677654654582e-05,\n",
       " -0.0028490812745165517,\n",
       " -0.0023054160071571128,\n",
       " 0.00067442020507879619,\n",
       " -0.00070194756038810535,\n",
       " -0.0025944532379051366,\n",
       " 0.00050925607322277466,\n",
       " 0.0026907989814878852,\n",
       " -0.00072259307687005947,\n",
       " 0.00087399353107148192,\n",
       " -0.00013075493771941282,\n",
       " 0.000323446424884688,\n",
       " -0.0017548689009703189,\n",
       " -0.0013075493771936286,\n",
       " 0.0021953065859198206,\n",
       " 0.0015277682196682685,\n",
       " 0.0020094969375816785,\n",
       " 0.0026219805932144458,\n",
       " -0.0012249673112655346,\n",
       " -0.0017135778680062996,\n",
       " 0.0025256348496317527,\n",
       " 0.0022021884247470647,\n",
       " -0.0019337967104810505,\n",
       " -0.0031794095382285947,\n",
       " -0.00045420136260410082,\n",
       " 0.00083270249810746266,\n",
       " -0.0017204597068336547,\n",
       " 0.00076388410983418975,\n",
       " 0.00042667400729473615,\n",
       " -0.0013419585713302373,\n",
       " -0.0015071227031862588,\n",
       " 0.00064689284976948702,\n",
       " 0.0011974399559562254,\n",
       " -0.00080517514279809799,\n",
       " -0.00026839171426595865,\n",
       " -0.00057807446149604758,\n",
       " 0.0013557222489850029,\n",
       " 0.0011423852453374961,\n",
       " 0.0044112586883215399,\n",
       " -0.00075700227100677919,\n",
       " 0.0010185121464455493,\n",
       " ...]"
      ]
     },
     "execution_count": 36,
     "metadata": {},
     "output_type": "execute_result"
    }
   ],
   "source": [
    "# Sampling distribution \n",
    "p_diffs "
   ]
  },
  {
   "cell_type": "markdown",
   "metadata": {},
   "source": [
    "**i. Histogram**<br> \n",
    "Plot a histogram of the **p_diffs**.   <br><br>\n",
    "\n",
    "Also, use `plt.axvline()` method to mark the actual difference observed  in the `df2` data (recall `obs_diff`), in the chart.  "
   ]
  },
  {
   "cell_type": "code",
   "execution_count": 37,
   "metadata": {},
   "outputs": [
    {
     "data": {
      "text/plain": [
       "Text(0.5,1,'distribution of p_diff')"
      ]
     },
     "execution_count": 37,
     "metadata": {},
     "output_type": "execute_result"
    },
    {
     "data": {
      "image/png": "[encoded data removed]",
      "text/plain": [
       "<matplotlib.figure.Figure at 0x7f5058efbd30>"
      ]
     },
     "metadata": {
      "needs_background": "light"
     },
     "output_type": "display_data"
    }
   ],
   "source": [
    "plt.hist(p_diffs, alpha = 0.5);\n",
    "plt.axvline(obs_diff, c='red')\n",
    "plt.xlabel('p_diff')\n",
    "plt.ylabel('count')\n",
    "plt.title('distribution of p_diff')"
   ]
  },
  {
   "cell_type": "code",
   "execution_count": 38,
   "metadata": {},
   "outputs": [
    {
     "data": {
      "text/plain": [
       "<matplotlib.lines.Line2D at 0x7f50583e5588>"
      ]
     },
     "execution_count": 38,
     "metadata": {},
     "output_type": "execute_result"
    },
    {
     "data": {
      "image/png": "[encoded data removed]",
      "text/plain": [
       "<matplotlib.figure.Figure at 0x7f50583e52e8>"
      ]
     },
     "metadata": {
      "needs_background": "light"
     },
     "output_type": "display_data"
    }
   ],
   "source": [
    "# Convert to numpy array\n",
    "diffs = np.array(p_diffs)\n",
    "# Simulate distribution under the null hypothesis\n",
    "null_vals = np.random.normal(0, diffs.std(), diffs.size)\n",
    "\n",
    "# Plot observed statistic with the null distibution\n",
    "plt.hist(null_vals);\n",
    "plt.axvline(obs_diff, c='red')"
   ]
  },
  {
   "cell_type": "code",
   "execution_count": 39,
   "metadata": {},
   "outputs": [
    {
     "data": {
      "text/plain": [
       "-0.0015782389853555567"
      ]
     },
     "execution_count": 39,
     "metadata": {},
     "output_type": "execute_result"
    }
   ],
   "source": [
    "sample_mean=obs_diff\n",
    "sample_mean"
   ]
  },
  {
   "cell_type": "code",
   "execution_count": 40,
   "metadata": {},
   "outputs": [
    {
     "data": {
      "text/plain": [
       "0.39989999999999998"
      ]
     },
     "execution_count": 40,
     "metadata": {},
     "output_type": "execute_result"
    }
   ],
   "source": [
    "# Compute p-value\n",
    "null_mean=null_vals.mean()\n",
    "p_value=(null_vals<sample_mean).mean()+(null_vals>null_mean+(null_mean-sample_mean)).mean()\n",
    "p_value"
   ]
  },
  {
   "cell_type": "markdown",
   "metadata": {},
   "source": [
    "large p-value suggests that we should not move away from the null Hypothese.\n",
    "\n",
    "pval>α⇒ Fail to Reject H_0"
   ]
  },
  {
   "cell_type": "markdown",
   "metadata": {},
   "source": [
    "**j.** What proportion of the **p_diffs** are greater than the actual difference observed in the `df2` data?"
   ]
  },
  {
   "cell_type": "code",
   "execution_count": 41,
   "metadata": {},
   "outputs": [
    {
     "data": {
      "text/plain": [
       "0.30005000000000004"
      ]
     },
     "execution_count": 41,
     "metadata": {},
     "output_type": "execute_result"
    }
   ],
   "source": [
    "(1-p_value)/2"
   ]
  },
  {
   "cell_type": "markdown",
   "metadata": {},
   "source": [
    "**k.** Please explain in words what you have just computed in part **j** above.  \n",
    " - We have calculated the P-value\n",
    " - It means the probability of observing the statistic if the null hypothesis is true. \n",
    " \n",
    " P-value 0.4163 > \"Type I error rate\" 0.05. We fail to reject the null hypothesis, which means there is barely no difference between the conversion rate of the new and old pages."
   ]
  },
  {
   "cell_type": "markdown",
   "metadata": {},
   "source": [
    "\n",
    "\n",
    "**l. Using Built-in Methods for Hypothesis Testing**<br>\n",
    "We could also use a built-in to achieve similar results.  Though using the built-in might be easier to code, the above portions are a walkthrough of the ideas that are critical to correctly thinking about statistical significance. \n",
    "\n",
    "the statements below :\n",
    "- `convert_old`: number of conversions with the old_page\n",
    "- `convert_new`: number of conversions with the new_page\n",
    "- `n_old`: number of individuals who were shown the old_page\n",
    "- `n_new`: number of individuals who were shown the new_page\n"
   ]
  },
  {
   "cell_type": "code",
   "execution_count": 42,
   "metadata": {},
   "outputs": [
    {
     "name": "stderr",
     "output_type": "stream",
     "text": [
      "/opt/conda/lib/python3.6/site-packages/statsmodels/compat/pandas.py:56: FutureWarning: The pandas.core.datetools module is deprecated and will be removed in a future version. Please use the pandas.tseries module instead.\n",
      "  from pandas.core import datetools\n"
     ]
    }
   ],
   "source": [
    "import statsmodels.api as sm\n",
    "\n",
    "# number of conversions with the old_page\n",
    "convert_old = df2.query('group==\"control\"').converted.mean()\n",
    "\n",
    "# number of conversions with the new_page\n",
    "convert_new = df2.query('group==\"treatment\"').converted.mean()\n",
    "\n",
    "# number of individuals who were shown the old_page\n",
    "n_old = df2.query('group==\"control\"').shape[0]\n",
    "\n",
    "# number of individuals who received new_page\n",
    "n_new = df2.query('group==\"treatment\"').shape[0]"
   ]
  },
  {
   "cell_type": "markdown",
   "metadata": {},
   "source": [
    "**m.** Now use `sm.stats.proportions_ztest()` to compute the test statistic and p-value.  \n",
    "\n",
    "The syntax is: \n",
    "```bash\n",
    "proportions_ztest(count_array, nobs_array, alternative='larger')\n",
    "```\n",
    "where, \n",
    "- `count_array` = represents the number of \"converted\" for each group\n",
    "- `nobs_array` = represents the total number of observations (rows) in each group\n",
    "- `alternative` = choose one of the values from `[‘two-sided’, ‘smaller’, ‘larger’]` depending upon two-tailed, left-tailed, or right-tailed respectively. \n",
    ">**Hint**: <br>\n",
    "It's a two-tailed if you defined $H_1$ as $(p_{new} = p_{old})$. <br>\n",
    "It's a left-tailed if you defined $H_1$ as $(p_{new} < p_{old})$. <br>\n",
    "It's a right-tailed if you defined $H_1$ as $(p_{new} > p_{old})$. \n",
    "\n",
    "The built-in function above will return the z_score, p_value. \n",
    "\n",
    "---\n",
    "### About the two-sample z-test\n",
    "Recall that you have plotted a distribution `p_diffs` representing the\n",
    "difference in the \"converted\" probability  $(p{'}_{new}-p{'}_{old})$  for your two simulated samples 10,000 times. \n",
    "\n",
    "Another way for comparing the mean of two independent and normal distribution is a **two-sample z-test**. You can perform the Z-test to calculate the Z_score, as shown in the equation below:\n",
    "\n",
    "$$\n",
    "Z_{score} = \\frac{ (p{'}_{new}-p{'}_{old}) - (p_{new}  -  p_{old})}{ \\sqrt{ \\frac{\\sigma^{2}_{new} }{n_{new}} + \\frac{\\sigma^{2}_{old} }{n_{old}}  } }\n",
    "$$\n",
    "\n",
    "where,\n",
    "- $p{'}$ is the \"converted\" success rate in the sample\n",
    "- $p_{new}$ and $p_{old}$ are the \"converted\" success rate for the two groups in the population. \n",
    "- $\\sigma_{new}$ and $\\sigma_{new}$ are the standard deviation for the two groups in the population. \n",
    "- $n_{new}$ and $n_{old}$ represent the size of the two groups or samples (it's same in our case)\n",
    "\n",
    "\n",
    ">Z-test is performed when the sample size is large, and the population variance is known. The z-score represents the distance between the two \"converted\" success rates in terms of the standard error. \n",
    "\n",
    "Next step is to make a decision to reject or fail to reject the null hypothesis based on comparing these two values: \n",
    "- $Z_{score}$\n",
    "- $Z_{\\alpha}$ or $Z_{0.05}$, also known as critical value at 95% confidence interval.  $Z_{0.05}$ is 1.645 for one-tailed tests,  and 1.960 for two-tailed test. You can determine the $Z_{\\alpha}$ from the z-table manually. \n",
    "\n",
    "Decide if your hypothesis is either a two-tailed, left-tailed, or right-tailed test. Accordingly, reject OR fail to reject the  null based on the comparison between $Z_{score}$ and $Z_{\\alpha}$. We determine whether or not the $Z_{score}$ lies in the \"rejection region\" in the distribution. In other words, a \"rejection region\" is an interval where the null hypothesis is rejected iff the $Z_{score}$ lies in that region.\n",
    "\n",
    ">Hint:<br>\n",
    "For a right-tailed test, reject null if $Z_{score}$ > $Z_{\\alpha}$. <br>\n",
    "For a left-tailed test, reject null if $Z_{score}$ < $Z_{\\alpha}$. \n",
    "\n",
    "\n",
    "\n",
    "\n",
    "Reference: \n",
    "- Example 9.1.2 on this [page](https://stats.libretexts.org/Bookshelves/Introductory_Statistics/Book%3A_Introductory_Statistics_(Shafer_and_Zhang)/09%3A_Two-Sample_Problems/9.01%3A_Comparison_of_Two_Population_Means-_Large_Independent_Samples), courtesy www.stats.libretexts.org\n",
    "\n",
    "---\n"
   ]
  },
  {
   "cell_type": "code",
   "execution_count": 43,
   "metadata": {},
   "outputs": [
    {
     "name": "stdout",
     "output_type": "stream",
     "text": [
      "0.00328757967535 0.49868844783\n"
     ]
    }
   ],
   "source": [
    "import statsmodels.api as sm\n",
    "count_array=[convert_old,convert_new]\n",
    "nobs_array=[n_old,n_new]\n",
    "z_score, p_value = sm.stats.proportions_ztest(count_array, nobs_array, alternative='larger')\n",
    "print(z_score, p_value)"
   ]
  },
  {
   "cell_type": "markdown",
   "metadata": {},
   "source": [
    "**n.** What do the z-score and p-value you computed in the previous question mean for the conversion rates of the old and new pages?  Do they agree with the findings in parts **j.** and **k.**?<br><br>\n",
    "$Z_{0.05}$ is 1.960 for two-tailed test.\n",
    "\n",
    "$Z_{score}$ < $Z_{\\alpha}$\n",
    "\n",
    "> The p-value 0.49868844783 is similar to the one 0.4163 computed earlier. Accordingly, we fail to reject the null hypothesis.\n"
   ]
  },
  {
   "cell_type": "markdown",
   "metadata": {},
   "source": [
    "<a id='regression'></a>\n",
    "### Part III - A regression approach\n",
    "\n",
    "###  3.1 \n",
    "In this final part, we will see that the result you achieved in the A/B test in Part II above can also be achieved by performing regression.<br><br> \n",
    "\n",
    "**a.** Since each row in the `df2` data is either a conversion or no conversion, what type of regression should you be performing in this case?"
   ]
  },
  {
   "cell_type": "markdown",
   "metadata": {},
   "source": [
    ">**Logistic regression**"
   ]
  },
  {
   "cell_type": "markdown",
   "metadata": {},
   "source": [
    "**b.** The goal is to use **statsmodels** library to fit the regression model you specified in part **a.** above to see if there is a significant difference in conversion based on the page-type a customer receives. However, you first need to create the following two columns in the `df2` dataframe:\n",
    " 1. `intercept` - It should be `1` in the entire column. \n",
    " 2. `ab_page` - It's a dummy variable column, having a value `1` when an individual receives the **treatment**, otherwise `0`.  "
   ]
  },
  {
   "cell_type": "code",
   "execution_count": 44,
   "metadata": {},
   "outputs": [],
   "source": [
    "landing_page_dummies = pd.get_dummies(df2['landing_page'])\n",
    "df_new = df2.join(landing_page_dummies)\n",
    "df_new['ab_page']=df_new['new_page']\n",
    "\n",
    "df_new['intercept'] = 1"
   ]
  },
  {
   "cell_type": "markdown",
   "metadata": {},
   "source": [
    "**c.** Use **statsmodels** to instantiate your regression model on the two columns you created in part (b). above, then fit the model to predict whether or not an individual converts. \n"
   ]
  },
  {
   "cell_type": "code",
   "execution_count": 45,
   "metadata": {},
   "outputs": [
    {
     "name": "stdout",
     "output_type": "stream",
     "text": [
      "Optimization terminated successfully.\n",
      "         Current function value: 0.366118\n",
      "         Iterations 6\n"
     ]
    }
   ],
   "source": [
    "log_mod = sm.Logit(df_new['converted'], df_new[['intercept', 'ab_page']])\n",
    "results = log_mod.fit()"
   ]
  },
  {
   "cell_type": "markdown",
   "metadata": {},
   "source": [
    "**d.** Provide the summary of your model below."
   ]
  },
  {
   "cell_type": "code",
   "execution_count": 46,
   "metadata": {
    "scrolled": true
   },
   "outputs": [
    {
     "data": {
      "text/html": [
       "<table class=\"simpletable\">\n",
       "<tr>\n",
       "        <td>Model:</td>              <td>Logit</td>       <td>No. Iterations:</td>    <td>6.0000</td>   \n",
       "</tr>\n",
       "<tr>\n",
       "  <td>Dependent Variable:</td>     <td>converted</td>    <td>Pseudo R-squared:</td>    <td>0.000</td>   \n",
       "</tr>\n",
       "<tr>\n",
       "         <td>Date:</td>        <td>2022-08-14 19:47</td>       <td>AIC:</td>        <td>212780.3502</td>\n",
       "</tr>\n",
       "<tr>\n",
       "   <td>No. Observations:</td>       <td>290584</td>            <td>BIC:</td>        <td>212801.5095</td>\n",
       "</tr>\n",
       "<tr>\n",
       "       <td>Df Model:</td>              <td>1</td>         <td>Log-Likelihood:</td>  <td>-1.0639e+05</td>\n",
       "</tr>\n",
       "<tr>\n",
       "     <td>Df Residuals:</td>         <td>290582</td>          <td>LL-Null:</td>      <td>-1.0639e+05</td>\n",
       "</tr>\n",
       "<tr>\n",
       "      <td>Converged:</td>           <td>1.0000</td>           <td>Scale:</td>         <td>1.0000</td>   \n",
       "</tr>\n",
       "</table>\n",
       "<table class=\"simpletable\">\n",
       "<tr>\n",
       "      <td></td>       <th>Coef.</th>  <th>Std.Err.</th>     <th>z</th>      <th>P>|z|</th> <th>[0.025</th>  <th>0.975]</th> \n",
       "</tr>\n",
       "<tr>\n",
       "  <th>intercept</th> <td>-1.9888</td>  <td>0.0081</td>  <td>-246.6690</td> <td>0.0000</td> <td>-2.0046</td> <td>-1.9730</td>\n",
       "</tr>\n",
       "<tr>\n",
       "  <th>ab_page</th>   <td>-0.0150</td>  <td>0.0114</td>   <td>-1.3109</td>  <td>0.1899</td> <td>-0.0374</td> <td>0.0074</td> \n",
       "</tr>\n",
       "</table>"
      ],
      "text/plain": [
       "<class 'statsmodels.iolib.summary2.Summary'>\n",
       "\"\"\"\n",
       "                          Results: Logit\n",
       "==================================================================\n",
       "Model:              Logit            No. Iterations:   6.0000     \n",
       "Dependent Variable: converted        Pseudo R-squared: 0.000      \n",
       "Date:               2022-08-14 19:47 AIC:              212780.3502\n",
       "No. Observations:   290584           BIC:              212801.5095\n",
       "Df Model:           1                Log-Likelihood:   -1.0639e+05\n",
       "Df Residuals:       290582           LL-Null:          -1.0639e+05\n",
       "Converged:          1.0000           Scale:            1.0000     \n",
       "-------------------------------------------------------------------\n",
       "              Coef.   Std.Err.      z      P>|z|    [0.025   0.975]\n",
       "-------------------------------------------------------------------\n",
       "intercept    -1.9888    0.0081  -246.6690  0.0000  -2.0046  -1.9730\n",
       "ab_page      -0.0150    0.0114    -1.3109  0.1899  -0.0374   0.0074\n",
       "==================================================================\n",
       "\n",
       "\"\"\""
      ]
     },
     "execution_count": 46,
     "metadata": {},
     "output_type": "execute_result"
    }
   ],
   "source": [
    "results.summary2()"
   ]
  },
  {
   "cell_type": "markdown",
   "metadata": {},
   "source": [
    "**e.** What is the p-value associated with **ab_page**? Why does it differ from the value you found in **Part II**?<br><br>  \n",
    "\n",
    "\n",
    "- What are the null and alternative hypotheses associated with your regression model, and how do they compare to the null and alternative hypotheses in **Part II**? \n",
    "- You may comment on if these hypothesis (Part II vs. Part III) are one-sided or two-sided. \n",
    "- You may also compare the current p-value with the Type I error rate (0.05).\n"
   ]
  },
  {
   "cell_type": "markdown",
   "metadata": {},
   "source": [
    ">the p-value associated with ab_page is 0.1899\n",
    "\n",
    ">it differs from the value in Part II. Because it reflects the relationship between the conversion rate and if the type of the web page.\n",
    "\n",
    ">null hypothes associated with the regression model: the conversion rate is related to the fact that if the webpage is a new page.\n",
    "\n",
    ">alternative hypothes: the conversion rate is not related to the fact that if the webpage is a new page."
   ]
  },
  {
   "cell_type": "markdown",
   "metadata": {},
   "source": [
    "**f.** Now, you are considering other things that might influence whether or not an individual converts.  Discuss why it is a good idea to consider other factors to add into your regression model.  Are there any disadvantages to adding additional terms into your regression model?"
   ]
  },
  {
   "cell_type": "markdown",
   "metadata": {},
   "source": [
    ">Considering other factors may build a more accurate model. But the model will not fit the data if the additional term doesn't describe the data very well."
   ]
  },
  {
   "cell_type": "markdown",
   "metadata": {},
   "source": [
    "**g. Adding countries**<br> \n",
    "Now along with testing if the conversion rate changes for different pages, also add an effect based on which country a user lives in. \n",
    "\n",
    "1. We will need to read in the **countries.csv** dataset and merge together the `df2` datasets on the appropriate rows. You call the resulting dataframe `df_merged`. \n",
    "2. Does it appear that country had an impact on conversion?  To answer this question, consider the three unique values, `['UK', 'US', 'CA']`, in the `country` column. Create dummy variables for these country columns. \n"
   ]
  },
  {
   "cell_type": "code",
   "execution_count": 47,
   "metadata": {},
   "outputs": [
    {
     "data": {
      "text/html": [
       "<div>\n",
       "<style scoped>\n",
       "    .dataframe tbody tr th:only-of-type {\n",
       "        vertical-align: middle;\n",
       "    }\n",
       "\n",
       "    .dataframe tbody tr th {\n",
       "        vertical-align: top;\n",
       "    }\n",
       "\n",
       "    .dataframe thead th {\n",
       "        text-align: right;\n",
       "    }\n",
       "</style>\n",
       "<table border=\"1\" class=\"dataframe\">\n",
       "  <thead>\n",
       "    <tr style=\"text-align: right;\">\n",
       "      <th></th>\n",
       "      <th>user_id</th>\n",
       "      <th>country</th>\n",
       "    </tr>\n",
       "  </thead>\n",
       "  <tbody>\n",
       "    <tr>\n",
       "      <th>0</th>\n",
       "      <td>834778</td>\n",
       "      <td>UK</td>\n",
       "    </tr>\n",
       "    <tr>\n",
       "      <th>1</th>\n",
       "      <td>928468</td>\n",
       "      <td>US</td>\n",
       "    </tr>\n",
       "    <tr>\n",
       "      <th>2</th>\n",
       "      <td>822059</td>\n",
       "      <td>UK</td>\n",
       "    </tr>\n",
       "    <tr>\n",
       "      <th>3</th>\n",
       "      <td>711597</td>\n",
       "      <td>UK</td>\n",
       "    </tr>\n",
       "    <tr>\n",
       "      <th>4</th>\n",
       "      <td>710616</td>\n",
       "      <td>UK</td>\n",
       "    </tr>\n",
       "  </tbody>\n",
       "</table>\n",
       "</div>"
      ],
      "text/plain": [
       "   user_id country\n",
       "0   834778      UK\n",
       "1   928468      US\n",
       "2   822059      UK\n",
       "3   711597      UK\n",
       "4   710616      UK"
      ]
     },
     "execution_count": 47,
     "metadata": {},
     "output_type": "execute_result"
    }
   ],
   "source": [
    "# Read the countries.csv\n",
    "df_countries=pd.read_csv('countries.csv')\n",
    "df_countries.head()"
   ]
  },
  {
   "cell_type": "code",
   "execution_count": 48,
   "metadata": {},
   "outputs": [
    {
     "data": {
      "text/html": [
       "<div>\n",
       "<style scoped>\n",
       "    .dataframe tbody tr th:only-of-type {\n",
       "        vertical-align: middle;\n",
       "    }\n",
       "\n",
       "    .dataframe tbody tr th {\n",
       "        vertical-align: top;\n",
       "    }\n",
       "\n",
       "    .dataframe thead th {\n",
       "        text-align: right;\n",
       "    }\n",
       "</style>\n",
       "<table border=\"1\" class=\"dataframe\">\n",
       "  <thead>\n",
       "    <tr style=\"text-align: right;\">\n",
       "      <th></th>\n",
       "      <th>timestamp</th>\n",
       "      <th>group</th>\n",
       "      <th>landing_page</th>\n",
       "      <th>converted</th>\n",
       "      <th>new_page</th>\n",
       "      <th>old_page</th>\n",
       "      <th>ab_page</th>\n",
       "      <th>intercept</th>\n",
       "      <th>country</th>\n",
       "    </tr>\n",
       "    <tr>\n",
       "      <th>user_id</th>\n",
       "      <th></th>\n",
       "      <th></th>\n",
       "      <th></th>\n",
       "      <th></th>\n",
       "      <th></th>\n",
       "      <th></th>\n",
       "      <th></th>\n",
       "      <th></th>\n",
       "      <th></th>\n",
       "    </tr>\n",
       "  </thead>\n",
       "  <tbody>\n",
       "    <tr>\n",
       "      <th>851104</th>\n",
       "      <td>2017-01-21 22:11:48.556739</td>\n",
       "      <td>control</td>\n",
       "      <td>old_page</td>\n",
       "      <td>0</td>\n",
       "      <td>0</td>\n",
       "      <td>1</td>\n",
       "      <td>0</td>\n",
       "      <td>1</td>\n",
       "      <td>US</td>\n",
       "    </tr>\n",
       "    <tr>\n",
       "      <th>804228</th>\n",
       "      <td>2017-01-12 08:01:45.159739</td>\n",
       "      <td>control</td>\n",
       "      <td>old_page</td>\n",
       "      <td>0</td>\n",
       "      <td>0</td>\n",
       "      <td>1</td>\n",
       "      <td>0</td>\n",
       "      <td>1</td>\n",
       "      <td>US</td>\n",
       "    </tr>\n",
       "    <tr>\n",
       "      <th>661590</th>\n",
       "      <td>2017-01-11 16:55:06.154213</td>\n",
       "      <td>treatment</td>\n",
       "      <td>new_page</td>\n",
       "      <td>0</td>\n",
       "      <td>1</td>\n",
       "      <td>0</td>\n",
       "      <td>1</td>\n",
       "      <td>1</td>\n",
       "      <td>US</td>\n",
       "    </tr>\n",
       "    <tr>\n",
       "      <th>853541</th>\n",
       "      <td>2017-01-08 18:28:03.143765</td>\n",
       "      <td>treatment</td>\n",
       "      <td>new_page</td>\n",
       "      <td>0</td>\n",
       "      <td>1</td>\n",
       "      <td>0</td>\n",
       "      <td>1</td>\n",
       "      <td>1</td>\n",
       "      <td>US</td>\n",
       "    </tr>\n",
       "    <tr>\n",
       "      <th>864975</th>\n",
       "      <td>2017-01-21 01:52:26.210827</td>\n",
       "      <td>control</td>\n",
       "      <td>old_page</td>\n",
       "      <td>1</td>\n",
       "      <td>0</td>\n",
       "      <td>1</td>\n",
       "      <td>0</td>\n",
       "      <td>1</td>\n",
       "      <td>US</td>\n",
       "    </tr>\n",
       "  </tbody>\n",
       "</table>\n",
       "</div>"
      ],
      "text/plain": [
       "                          timestamp      group landing_page  converted  \\\n",
       "user_id                                                                  \n",
       "851104   2017-01-21 22:11:48.556739    control     old_page          0   \n",
       "804228   2017-01-12 08:01:45.159739    control     old_page          0   \n",
       "661590   2017-01-11 16:55:06.154213  treatment     new_page          0   \n",
       "853541   2017-01-08 18:28:03.143765  treatment     new_page          0   \n",
       "864975   2017-01-21 01:52:26.210827    control     old_page          1   \n",
       "\n",
       "         new_page  old_page  ab_page  intercept country  \n",
       "user_id                                                  \n",
       "851104          0         1        0          1      US  \n",
       "804228          0         1        0          1      US  \n",
       "661590          1         0        1          1      US  \n",
       "853541          1         0        1          1      US  \n",
       "864975          0         1        0          1      US  "
      ]
     },
     "execution_count": 48,
     "metadata": {},
     "output_type": "execute_result"
    }
   ],
   "source": [
    "# Join with the df2 dataframe\n",
    "df_merged=df_new.set_index('user_id').join(df_countries.set_index('user_id'))\n",
    "df_merged.head()"
   ]
  },
  {
   "cell_type": "code",
   "execution_count": 49,
   "metadata": {},
   "outputs": [
    {
     "data": {
      "text/html": [
       "<div>\n",
       "<style scoped>\n",
       "    .dataframe tbody tr th:only-of-type {\n",
       "        vertical-align: middle;\n",
       "    }\n",
       "\n",
       "    .dataframe tbody tr th {\n",
       "        vertical-align: top;\n",
       "    }\n",
       "\n",
       "    .dataframe thead th {\n",
       "        text-align: right;\n",
       "    }\n",
       "</style>\n",
       "<table border=\"1\" class=\"dataframe\">\n",
       "  <thead>\n",
       "    <tr style=\"text-align: right;\">\n",
       "      <th></th>\n",
       "      <th>timestamp</th>\n",
       "      <th>group</th>\n",
       "      <th>landing_page</th>\n",
       "      <th>converted</th>\n",
       "      <th>new_page</th>\n",
       "      <th>old_page</th>\n",
       "      <th>ab_page</th>\n",
       "      <th>intercept</th>\n",
       "      <th>country</th>\n",
       "    </tr>\n",
       "    <tr>\n",
       "      <th>user_id</th>\n",
       "      <th></th>\n",
       "      <th></th>\n",
       "      <th></th>\n",
       "      <th></th>\n",
       "      <th></th>\n",
       "      <th></th>\n",
       "      <th></th>\n",
       "      <th></th>\n",
       "      <th></th>\n",
       "    </tr>\n",
       "  </thead>\n",
       "  <tbody>\n",
       "    <tr>\n",
       "      <th>834778</th>\n",
       "      <td>2017-01-14 23:08:43.304998</td>\n",
       "      <td>control</td>\n",
       "      <td>old_page</td>\n",
       "      <td>0</td>\n",
       "      <td>0</td>\n",
       "      <td>1</td>\n",
       "      <td>0</td>\n",
       "      <td>1</td>\n",
       "      <td>UK</td>\n",
       "    </tr>\n",
       "  </tbody>\n",
       "</table>\n",
       "</div>"
      ],
      "text/plain": [
       "                          timestamp    group landing_page  converted  \\\n",
       "user_id                                                                \n",
       "834778   2017-01-14 23:08:43.304998  control     old_page          0   \n",
       "\n",
       "         new_page  old_page  ab_page  intercept country  \n",
       "user_id                                                  \n",
       "834778          0         1        0          1      UK  "
      ]
     },
     "execution_count": 49,
     "metadata": {},
     "output_type": "execute_result"
    }
   ],
   "source": [
    "df_merged.query('user_id==834778')"
   ]
  },
  {
   "cell_type": "code",
   "execution_count": 50,
   "metadata": {},
   "outputs": [
    {
     "data": {
      "text/html": [
       "<div>\n",
       "<style scoped>\n",
       "    .dataframe tbody tr th:only-of-type {\n",
       "        vertical-align: middle;\n",
       "    }\n",
       "\n",
       "    .dataframe tbody tr th {\n",
       "        vertical-align: top;\n",
       "    }\n",
       "\n",
       "    .dataframe thead th {\n",
       "        text-align: right;\n",
       "    }\n",
       "</style>\n",
       "<table border=\"1\" class=\"dataframe\">\n",
       "  <thead>\n",
       "    <tr style=\"text-align: right;\">\n",
       "      <th></th>\n",
       "      <th>timestamp</th>\n",
       "      <th>group</th>\n",
       "      <th>landing_page</th>\n",
       "      <th>converted</th>\n",
       "      <th>new_page</th>\n",
       "      <th>old_page</th>\n",
       "      <th>ab_page</th>\n",
       "      <th>intercept</th>\n",
       "      <th>country</th>\n",
       "      <th>CA</th>\n",
       "      <th>UK</th>\n",
       "      <th>US</th>\n",
       "    </tr>\n",
       "    <tr>\n",
       "      <th>user_id</th>\n",
       "      <th></th>\n",
       "      <th></th>\n",
       "      <th></th>\n",
       "      <th></th>\n",
       "      <th></th>\n",
       "      <th></th>\n",
       "      <th></th>\n",
       "      <th></th>\n",
       "      <th></th>\n",
       "      <th></th>\n",
       "      <th></th>\n",
       "      <th></th>\n",
       "    </tr>\n",
       "  </thead>\n",
       "  <tbody>\n",
       "    <tr>\n",
       "      <th>851104</th>\n",
       "      <td>2017-01-21 22:11:48.556739</td>\n",
       "      <td>control</td>\n",
       "      <td>old_page</td>\n",
       "      <td>0</td>\n",
       "      <td>0</td>\n",
       "      <td>1</td>\n",
       "      <td>0</td>\n",
       "      <td>1</td>\n",
       "      <td>US</td>\n",
       "      <td>0</td>\n",
       "      <td>0</td>\n",
       "      <td>1</td>\n",
       "    </tr>\n",
       "    <tr>\n",
       "      <th>804228</th>\n",
       "      <td>2017-01-12 08:01:45.159739</td>\n",
       "      <td>control</td>\n",
       "      <td>old_page</td>\n",
       "      <td>0</td>\n",
       "      <td>0</td>\n",
       "      <td>1</td>\n",
       "      <td>0</td>\n",
       "      <td>1</td>\n",
       "      <td>US</td>\n",
       "      <td>0</td>\n",
       "      <td>0</td>\n",
       "      <td>1</td>\n",
       "    </tr>\n",
       "    <tr>\n",
       "      <th>661590</th>\n",
       "      <td>2017-01-11 16:55:06.154213</td>\n",
       "      <td>treatment</td>\n",
       "      <td>new_page</td>\n",
       "      <td>0</td>\n",
       "      <td>1</td>\n",
       "      <td>0</td>\n",
       "      <td>1</td>\n",
       "      <td>1</td>\n",
       "      <td>US</td>\n",
       "      <td>0</td>\n",
       "      <td>0</td>\n",
       "      <td>1</td>\n",
       "    </tr>\n",
       "    <tr>\n",
       "      <th>853541</th>\n",
       "      <td>2017-01-08 18:28:03.143765</td>\n",
       "      <td>treatment</td>\n",
       "      <td>new_page</td>\n",
       "      <td>0</td>\n",
       "      <td>1</td>\n",
       "      <td>0</td>\n",
       "      <td>1</td>\n",
       "      <td>1</td>\n",
       "      <td>US</td>\n",
       "      <td>0</td>\n",
       "      <td>0</td>\n",
       "      <td>1</td>\n",
       "    </tr>\n",
       "    <tr>\n",
       "      <th>864975</th>\n",
       "      <td>2017-01-21 01:52:26.210827</td>\n",
       "      <td>control</td>\n",
       "      <td>old_page</td>\n",
       "      <td>1</td>\n",
       "      <td>0</td>\n",
       "      <td>1</td>\n",
       "      <td>0</td>\n",
       "      <td>1</td>\n",
       "      <td>US</td>\n",
       "      <td>0</td>\n",
       "      <td>0</td>\n",
       "      <td>1</td>\n",
       "    </tr>\n",
       "  </tbody>\n",
       "</table>\n",
       "</div>"
      ],
      "text/plain": [
       "                          timestamp      group landing_page  converted  \\\n",
       "user_id                                                                  \n",
       "851104   2017-01-21 22:11:48.556739    control     old_page          0   \n",
       "804228   2017-01-12 08:01:45.159739    control     old_page          0   \n",
       "661590   2017-01-11 16:55:06.154213  treatment     new_page          0   \n",
       "853541   2017-01-08 18:28:03.143765  treatment     new_page          0   \n",
       "864975   2017-01-21 01:52:26.210827    control     old_page          1   \n",
       "\n",
       "         new_page  old_page  ab_page  intercept country  CA  UK  US  \n",
       "user_id                                                              \n",
       "851104          0         1        0          1      US   0   0   1  \n",
       "804228          0         1        0          1      US   0   0   1  \n",
       "661590          1         0        1          1      US   0   0   1  \n",
       "853541          1         0        1          1      US   0   0   1  \n",
       "864975          0         1        0          1      US   0   0   1  "
      ]
     },
     "execution_count": 50,
     "metadata": {},
     "output_type": "execute_result"
    }
   ],
   "source": [
    "# Create the necessary dummy variables\n",
    "country_dummies = pd.get_dummies(df_merged['country'])\n",
    "df_g = df_merged.join(country_dummies)\n",
    "df_g.head()"
   ]
  },
  {
   "cell_type": "markdown",
   "metadata": {},
   "source": [
    "**h. Fit your model and obtain the results**<br> \n",
    "Though we have now looked at the individual factors of country and page on conversion, we would now like to look at an interaction between page and country to see if are there significant effects on conversion.  \n",
    "\n",
    "\n",
    "Provide the summary results (statistical output), and conclusions (written response) based on the results. \n",
    "\n",
    "- Look at all of p-values in the summary, and compare against the Type I error rate (0.05). \n",
    "- Reject/fail to reject the null hypotheses (regression model)?\n",
    "- Comment on the effect of page and country to predict the conversion.\n"
   ]
  },
  {
   "cell_type": "code",
   "execution_count": 51,
   "metadata": {},
   "outputs": [
    {
     "name": "stdout",
     "output_type": "stream",
     "text": [
      "Optimization terminated successfully.\n",
      "         Current function value: 0.366113\n",
      "         Iterations 6\n"
     ]
    },
    {
     "data": {
      "text/html": [
       "<table class=\"simpletable\">\n",
       "<tr>\n",
       "        <td>Model:</td>              <td>Logit</td>       <td>No. Iterations:</td>    <td>6.0000</td>   \n",
       "</tr>\n",
       "<tr>\n",
       "  <td>Dependent Variable:</td>     <td>converted</td>    <td>Pseudo R-squared:</td>    <td>0.000</td>   \n",
       "</tr>\n",
       "<tr>\n",
       "         <td>Date:</td>        <td>2022-08-14 19:47</td>       <td>AIC:</td>        <td>212781.1253</td>\n",
       "</tr>\n",
       "<tr>\n",
       "   <td>No. Observations:</td>       <td>290584</td>            <td>BIC:</td>        <td>212823.4439</td>\n",
       "</tr>\n",
       "<tr>\n",
       "       <td>Df Model:</td>              <td>3</td>         <td>Log-Likelihood:</td>  <td>-1.0639e+05</td>\n",
       "</tr>\n",
       "<tr>\n",
       "     <td>Df Residuals:</td>         <td>290580</td>          <td>LL-Null:</td>      <td>-1.0639e+05</td>\n",
       "</tr>\n",
       "<tr>\n",
       "      <td>Converged:</td>           <td>1.0000</td>           <td>Scale:</td>         <td>1.0000</td>   \n",
       "</tr>\n",
       "</table>\n",
       "<table class=\"simpletable\">\n",
       "<tr>\n",
       "      <td></td>       <th>Coef.</th>  <th>Std.Err.</th>     <th>z</th>      <th>P>|z|</th> <th>[0.025</th>  <th>0.975]</th> \n",
       "</tr>\n",
       "<tr>\n",
       "  <th>intercept</th> <td>-1.9893</td>  <td>0.0089</td>  <td>-223.7628</td> <td>0.0000</td> <td>-2.0067</td> <td>-1.9718</td>\n",
       "</tr>\n",
       "<tr>\n",
       "  <th>ab_page</th>   <td>-0.0149</td>  <td>0.0114</td>   <td>-1.3069</td>  <td>0.1912</td> <td>-0.0374</td> <td>0.0075</td> \n",
       "</tr>\n",
       "<tr>\n",
       "  <th>CA</th>        <td>-0.0408</td>  <td>0.0269</td>   <td>-1.5161</td>  <td>0.1295</td> <td>-0.0934</td> <td>0.0119</td> \n",
       "</tr>\n",
       "<tr>\n",
       "  <th>UK</th>        <td>0.0099</td>   <td>0.0133</td>   <td>0.7433</td>   <td>0.4573</td> <td>-0.0162</td> <td>0.0359</td> \n",
       "</tr>\n",
       "</table>"
      ],
      "text/plain": [
       "<class 'statsmodels.iolib.summary2.Summary'>\n",
       "\"\"\"\n",
       "                          Results: Logit\n",
       "==================================================================\n",
       "Model:              Logit            No. Iterations:   6.0000     \n",
       "Dependent Variable: converted        Pseudo R-squared: 0.000      \n",
       "Date:               2022-08-14 19:47 AIC:              212781.1253\n",
       "No. Observations:   290584           BIC:              212823.4439\n",
       "Df Model:           3                Log-Likelihood:   -1.0639e+05\n",
       "Df Residuals:       290580           LL-Null:          -1.0639e+05\n",
       "Converged:          1.0000           Scale:            1.0000     \n",
       "-------------------------------------------------------------------\n",
       "              Coef.   Std.Err.      z      P>|z|    [0.025   0.975]\n",
       "-------------------------------------------------------------------\n",
       "intercept    -1.9893    0.0089  -223.7628  0.0000  -2.0067  -1.9718\n",
       "ab_page      -0.0149    0.0114    -1.3069  0.1912  -0.0374   0.0075\n",
       "CA           -0.0408    0.0269    -1.5161  0.1295  -0.0934   0.0119\n",
       "UK            0.0099    0.0133     0.7433  0.4573  -0.0162   0.0359\n",
       "==================================================================\n",
       "\n",
       "\"\"\""
      ]
     },
     "execution_count": 51,
     "metadata": {},
     "output_type": "execute_result"
    }
   ],
   "source": [
    "# Fit your model, and summarize the results\n",
    "df_g['intercept'] = 1\n",
    "log_mod2 = sm.Logit(df_g['converted'], df_g[['intercept', 'ab_page', 'CA', 'UK']])\n",
    "results2 = log_mod2.fit()\n",
    "results2.summary2()"
   ]
  },
  {
   "cell_type": "code",
   "execution_count": 52,
   "metadata": {},
   "outputs": [
    {
     "data": {
      "text/plain": [
       "(0.9852104557227469, 0.96002111497165088, 1.0099491671175422)"
      ]
     },
     "execution_count": 52,
     "metadata": {},
     "output_type": "execute_result"
    }
   ],
   "source": [
    "np.exp(-0.0149),np.exp(-0.0408),np.exp(0.0099)"
   ]
  },
  {
   "cell_type": "markdown",
   "metadata": {},
   "source": [
    ">All of p-values are larger the Type I error rate (0.05), so we fail to reject the null hypotheses (regression model). \n",
    "\n",
    ">For each new page, conversion is 0.99 times as likely, holding all other variables constant.\n",
    "\n",
    ">Conversion in CA is 0.96 times as likely than US, holding all other variables (duration) constant.\n",
    "\n",
    ">Conversion in uk is 1.01 times as likely than US, holding all other variables (duration) constant."
   ]
  },
  {
   "cell_type": "code",
   "execution_count": null,
   "metadata": {},
   "outputs": [],
   "source": [
    "from subprocess import call\n",
    "call(['python', '-m', 'nbconvert', 'Analyze_ab_test_results_notebook.ipynb'])"
   ]
  }
 ],
 "metadata": {
  "kernelspec": {
   "display_name": "Python 3",
   "language": "python",
   "name": "python3"
  },
  "language_info": {
   "codemirror_mode": {
    "name": "ipython",
    "version": 3
   },
   "file_extension": ".py",
   "mimetype": "text/x-python",
   "name": "python",
   "nbconvert_exporter": "python",
   "pygments_lexer": "ipython3",
   "version": "3.6.3"
  }
 },
 "nbformat": 4,
 "nbformat_minor": 2
}
